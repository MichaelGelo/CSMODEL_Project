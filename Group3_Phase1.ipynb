{
 "cells": [
  {
   "cell_type": "markdown",
   "metadata": {},
   "source": [
    "# **Group 3: Ang, Depasucat, Padilla, Yee**"
   ]
  },
  {
   "cell_type": "markdown",
   "metadata": {},
   "source": [
    "***"
   ]
  },
  {
   "cell_type": "markdown",
   "metadata": {},
   "source": [
    "##  **Dataset Description**"
   ]
  },
  {
   "cell_type": "markdown",
   "metadata": {},
   "source": [
    "### Description of the Dataset"
   ]
  },
  {
   "cell_type": "markdown",
   "metadata": {},
   "source": [
    "The dataset used in this project is Dataset #1, titled Family Income and Expenditure Survey 2012 Vol 1, and can be accessed via this link ([Family Income and Expenditure Survey 2012 Vol 1](https://psada.psa.gov.ph/catalog/38/get-microdata)).\n",
    "\n",
    "This dataset was collected through a sample survey aimed at providing income and expenditure data for the country and its 17 regions. It includes information on sources of income (both in cash and in kind) and levels of consumption by expenditure item. The dataset serves as a key source of information on human development, offering insights for government policies and programs aimed at improving the socio-economic well-being of Filipino families."
   ]
  },
  {
   "cell_type": "markdown",
   "metadata": {},
   "source": [
    "###  Collection Process"
   ]
  },
  {
   "cell_type": "markdown",
   "metadata": {},
   "source": [
    "The 2012 Family Income and Expenditure Survey (FIES) is a survey sample that aims to gather income and expenditure information for the Philippines and its seventeen regions. Data was gathered in two separate periods, in July 2012 and January 2013, by conducting in-person interviews with around 50,000 households. Enumerators were given thorough training and supervision to guarantee the accuracy and completeness of the collected data. Supervisors carried out quality assessments, such as repeat interviews, to ensure precision. The gathered data was carefully reviewed and edited both manually and by machine, which included checks for completeness, validations for consistency, and macro edits using the FAME system. The survey attained an impressive 90.1% response rate, offering thorough socioeconomic information on family finances at national and regional levels."
   ]
  },
  {
   "cell_type": "markdown",
   "metadata": {},
   "source": [
    "### Implications"
   ]
  },
  {
   "cell_type": "markdown",
   "metadata": {},
   "source": [
    "The face-to-face data collection in the 2012 Family Income and Expenditure Survey (FIES) prompted more responses, resulting in a 90.1% response rate and showing a low non-response bias. However, the presence of enumerators may unintentionally impact respondents' responses, particularly for sensitive financial data. Furthermore, the survey deliberately excludes institutional populations (e.g., dormitories, care homes, and prisons), focusing entirely on private households, as stated on page 2 of the documentation. Because of this exclusion bias, the survey may not fully represent certain population sections, thereby providing insufficient insights on income and expenditure patterns."
   ]
  },
  {
   "cell_type": "markdown",
   "metadata": {},
   "source": [
    "### Structure of the Dataset File"
   ]
  },
  {
   "cell_type": "markdown",
   "metadata": {},
   "source": [
    "- The dataset contains 119 columns, each of which represents a specific variable associated to individual households. Each row in the dataset represents a household that participated in the survey. The dataset contains information about expenditures, housing characteristics, social protection, income, other revenues, and entrepreneurial activity.\n",
    "\n",
    "- The dataset contains 40,171 observations and 119 variables.\n",
    "\n",
    "- Variables:\n",
    "\n",
    "| **Name**                  | **Label**                                                                                                            |\n",
    "|:---------------------:|:--------------------------------------------------------------------------------------------------------------:|\n",
    "| w_regn                | Region                                                                                                         |\n",
    "| w_oid                 | Other ID                                                                                                      |\n",
    "| w_shsn                | Sample Household Serial Number                                                                                 |\n",
    "| w_hcn                 | Household Control Number                                                                                       |\n",
    "| psu                   | Psu (Recode)                                                                                                  |\n",
    "| urb                   | Urban/Rural                                                                                                   |\n",
    "| rstr                  | Stratum (Recode)                                                                                              |\n",
    "| bweight               | Base Weight                                                                                                   |\n",
    "| rfact                 | Final Weight                                                                                                  |\n",
    "| fsize                 | Family Size                                                                                                   |\n",
    "| agri_sal              | Salaries/Wages from Agricultural Activity                                                                     |\n",
    "| nonagri_sal          | Salaries/Wages from Non-Agricultural Activity                                                                 |\n",
    "| wages                 | Salaries/Wages from both Agri and Non-Agri Activities                                                         |\n",
    "| netshare              | Net Share of Crops, Fruits and Vegetables Produced, Aquaculture Products Harvested, or Livestock and Poultry Raised by Other Households (Tot. Net Value of Share) |\n",
    "| cash_abroad           | Cash Receipts, Support, Relief and Other Forms of Assistance from Abroad                                       |\n",
    "| cash_domestic         | Cash Receipts, Support, Assistance and Relief from Domestic Source                                            |\n",
    "| rentals_rec           | Rentals Received from Non-Agri Lands, Buildings, Spaces and Other Properties                                  |\n",
    "| interest              | Interest                                                                                                       |\n",
    "| pension               | Pension and Retirement Benefits                                                                                 |\n",
    "| dividends             | Dividends from Investment                                                                                     |\n",
    "| other_source          | Other Sources of Income NEC                                                                                    |\n",
    "| net_receipt           | Family Sustenance Activities                                                                                    |\n",
    "| regft                 | Total Received as Gifts                                                                                        |\n",
    "| net_cfg               | Crop Farming and Gardening                                                                                     |\n",
    "| net_lpr               | Livestock and Poultry Raising                                                                                 |\n",
    "| net_fish              | Fishing                                                                                                        |\n",
    "| net_for               | Forestry and Hunting                                                                                           |\n",
    "| net_ret               | Wholesale and Retail                                                                                           |\n",
    "| net_mfg               | Manufacturing                                                                                                  |\n",
    "| net_com               | Community, Social, Recreational and Personal Services                                                         |\n",
    "| net_trans             | Transportation, Storage, and Communication Services                                                           |\n",
    "| net_min               | Mining and Quarrying                                                                                           |\n",
    "| net_cons              | Construction                                                                                                   |\n",
    "| net_nec               | Entrep. Activities NEC                                                                                        |\n",
    "| eainc                 | Total Income from Entrepreneurial Activities                                                                    |\n",
    "| toinc                 | Total Income                                                                                                   |\n",
    "| losses                | Losses from EA                                                                                                |\n",
    "| t_bread               | Bread and Cereal (Total)                                                                                      |\n",
    "| t_meat                | Meat (Total)                                                                                                  |\n",
    "| t_fish                | Fish and Seafood (Total)                                                                                      |\n",
    "| t_milk                | Milk, Cheese and Eggs (Total)                                                                                 |\n",
    "| t_oil                 | Oils and Fats (Total)                                                                                         |\n",
    "| t_fruit               | Fruits (Total)                                                                                                 |\n",
    "| t_veg                 | Vegetables (Total)                                                                                             |\n",
    "| t_food_nec           | Food Not Elsewhere Classified (Total)                                                                          |\n",
    "| t_sugar               | Sugar, Jam, Honey, Chocolate and confectionery (Total)                                                       |\n",
    "| t_coffee              | Coffee, Cocoa and Tea (Total)                                                                                 |\n",
    "| t_mineral            | Mineral water, soft drinks, fruit and vegetable juices (Total)                                                |\n",
    "| t_alcohol             | Alcoholic Beverages (Total)                                                                                   |\n",
    "| t_tobacco             | Tobacco (Total)                                                                                               |\n",
    "| t_other_veg          | Other Vegetables-based products (Total)                                                                       |\n",
    "| t_food_home          | Total Food Consumed at Home (Total)                                                                           |\n",
    "| t_food_outside       | Food Regularly Consumed Outside The Home (Total)                                                              |\n",
    "| t_food               | Total Food Expenditures                                                                                        |\n",
    "| t_cloth              | Clothing and Footwear (Total)                                                                                 |\n",
    "| t_furnishing         | Furnishings, Household equipment and routine household maintenance (Total)                                     |\n",
    "| t_health             | Health (Total)                                                                                                |\n",
    "| t_housing_water      | Housing and water (Total)                                                                                     |\n",
    "| t_actrent            | Actual House Rent                                                                                             |\n",
    "| t_rentval            | House Rent/Rental Value                                                                                        |\n",
    "| t_imputed_rent       | Imputed House Rental Value                                                                                     |\n",
    "| t_bimputed_rent      | Imputed Housing Benefit Rental Value                                                                           |\n",
    "| t_transport          | Transport (Total)                                                                                             |\n",
    "| t_communication      | Communication (Total)                                                                                         |\n",
    "| t_recreation         | Recreation and culture (Total)                                                                                 |\n",
    "| t_education          | Education (Total)                                                                                              |\n",
    "| t_miscellaneous      | Miscellaneous Goods and Services (Total)                                                                      |\n",
    "| t_other_expenditure   | Other Expenditure (inc. Value Consumed, Losses)                                                              |\n",
    "| t_other_disbursement  | Other Disbursements                                                                                            |\n",
    "| t_nfood              | Total Non-Food Expenditure                                                                                     |\n",
    "| t_totex             | Total Expenditure                                                                                              |\n",
    "| t_totdis            | Total Disbursements                                                                                           |\n",
    "| t_othrec            | Total Other Receipts                                                                                           |\n",
    "| t_torec             | Total Receipts                                                                                                |\n",
    "| food_accom_srvc      | Food Regularly Consumed Outside The Home - Accommodation Services                                             |\n",
    "| sex                  | Household Head Sex (2nd visit only)                                                                           |\n",
    "| age                  | Household Head Age (2nd visit only)                                                                           |\n",
    "| ms                   | Household Head Marital Status (2nd visit only)                                                                |\n",
    "| hgc                  | Household Head Highest Grade Completed (2nd visit only)                                                       |\n",
    "| job                  | Household Head Job or Business Indicator (2nd visit only)                                                    |\n",
    "| occup                | Household Head Occupation (2nd visit only)                                                                    |\n",
    "| kb                   | Household Head Kind of Business/Industry (2nd visit only)                                                   |\n",
    "| cw                   | Household Head Class of Worker (2nd visit only)                                                               |\n",
    "| hhtype               | Type of Household (2nd visit only)                                                                            |\n",
    "| members              | Total Number of Family members (2nd visit only)                                                               |\n",
    "| ageless5             | Members with age less than 5 year old (2nd visit only)                                                      |\n",
    "| age5_17             | Members with age 5 - 17 years old (2nd visit only)                                                           |\n",
    "| employed_pay         | Total number of family members employed for pay (2nd visit only)                                             |\n",
    "| employed_prof        | Total number of family members employed for profit (2nd visit only)                                           |\n",
    "| spouse_emp           | Spouse has job/business (2nd visit only)                                                                      |\n",
    "| bldg_type            | Type of Building/House (2nd visit only)                                                                      |\n",
    "| roof                 | Type of Roof (2nd visit only)                                                                                 |\n",
    "| walls                | Type of Walls (2nd visit only)                                                                                |\n",
    "| tenure               | Tenure Status (2nd visit only)                                                                                |\n",
    "| hse_altertn          | House Alteration                                                                                               |\n",
    "| toilet               | Toilet Facilities (2nd visit only)                                                                           |\n",
    "| electric             | Electricity Indicator (2nd visit only)                                                                        |\n",
    "| water                | Main Source of Water Supply (2nd visit only)                                                                  |\n",
    "| distance             | Distance of Water Source from the House (2nd visit only)                                                     |\n",
    "| radio_qty            | Number of Radios (2nd visit only)                                                                             |\n",
    "| tv_qty               | Number of Television (2nd visit only)                                                                         |\n",
    "| cd_qty               | Number of CD/VCD/DVD (2nd visit only)                                                                         |\n",
    "| stereo_qty           | Number of Component/Stereo set (2nd visit only)                                                               |\n",
    "| ref_qty              | Number of Refrigerator/Freezer (2nd visit only)                                                               |\n",
    "| wash_qty             | Number of Washing Machine (2nd visit only)                                                                    |\n",
    "| aircon_qty           | Number of Air Conditioner (2nd visit only)                                                                    |\n",
    "| car_qty              | Number of Car, Jeep, Van (2nd visit only)                                                                     |\n",
    "| landline_qty         | Number of Landline/wireless telephones (2nd visit only)                                                      |\n",
    "| cellphone_qty        | Number of Cellular phone (2nd visit only)                                                                    |\n",
    "| pc_qty               | Number of Personal Computer (2nd visit only)                                                                  |\n",
    "| oven_qty             | Number of Stove with Oven/Gas Range (2nd visit only)                                                         |\n",
    "| motor_banca_qty      | Number of Motorized Banca (2nd visit only)                                                                   |\n",
    "| motorcycle_qty       | Number of Motorcycle/Tricycle (2nd visit only)                                                               |\n",
    "| pop_adj              | Population Adjustment                                                                                          |\n",
    "| pcinc                | Per Capita Income                                                                                             |\n",
    "| natpc                | National per capita income decile                                                                              |\n",
    "| natdc                | National Income decile                                                                                         |\n",
    "| regdc                | Regional Income decile                                                                                         |\n",
    "| regpc                | Regional per capita income decile                                                                              |\n",
    "\n"
   ]
  },
  {
   "cell_type": "markdown",
   "metadata": {},
   "source": [
    "***"
   ]
  },
  {
   "cell_type": "markdown",
   "metadata": {},
   "source": [
    "## **Data Cleaning**"
   ]
  },
  {
   "cell_type": "markdown",
   "metadata": {},
   "source": [
    "### Import"
   ]
  },
  {
   "cell_type": "code",
   "execution_count": 42,
   "metadata": {},
   "outputs": [],
   "source": [
    "import numpy as np\n",
    "import pandas as pd"
   ]
  },
  {
   "cell_type": "markdown",
   "metadata": {},
   "source": [
    "### Reading the Dataset"
   ]
  },
  {
   "cell_type": "code",
   "execution_count": 58,
   "metadata": {},
   "outputs": [
    {
     "name": "stdout",
     "output_type": "stream",
     "text": [
      "<class 'pandas.core.frame.DataFrame'>\n",
      "RangeIndex: 40171 entries, 0 to 40170\n",
      "Columns: 119 entries, W_REGN to REGPC\n",
      "dtypes: float64(5), int64(92), object(22)\n",
      "memory usage: 36.5+ MB\n"
     ]
    },
    {
     "data": {
      "text/plain": [
       "FSIZE                   False\n",
       "WAGES                   False\n",
       "TOINC                   False\n",
       "T_FOOD                  False\n",
       "T_CLOTH                 False\n",
       "T_FURNISHING            False\n",
       "T_HEALTH                False\n",
       "T_HOUSING_WATER         False\n",
       "T_TRANSPORT             False\n",
       "T_COMMUNICATION         False\n",
       "T_RECREATION            False\n",
       "T_EDUCATION             False\n",
       "T_MISCELLANEOUS         False\n",
       "T_OTHER_EXPENDITURE     False\n",
       "T_OTHER_DISBURSEMENT    False\n",
       "T_NFOOD                 False\n",
       "T_TOTEX                 False\n",
       "T_TOTDIS                False\n",
       "T_OTHREC                False\n",
       "T_TOREC                 False\n",
       "JOB                     False\n",
       "OCCUP                   False\n",
       "MEMBERS                 False\n",
       "AGELESS5                False\n",
       "AGE5_17                 False\n",
       "EMPLOYED_PAY            False\n",
       "EMPLOYED_PROF           False\n",
       "dtype: bool"
      ]
     },
     "execution_count": 58,
     "metadata": {},
     "output_type": "execute_result"
    }
   ],
   "source": [
    "FIES_df = pd.read_csv('FIES PUF 2012 Vol.1.CSV')\n",
    "FIES_df.info()\n",
    "subset = ['FSIZE', 'WAGES', 'TOINC', 'T_FOOD', 'T_CLOTH', 'T_FURNISHING', 'T_HEALTH', 'T_HOUSING_WATER', 'T_TRANSPORT', 'T_COMMUNICATION', 'T_RECREATION', 'T_EDUCATION', \n",
    "        'T_MISCELLANEOUS', 'T_OTHER_EXPENDITURE', 'T_OTHER_DISBURSEMENT', 'T_NFOOD', 'T_TOTEX', 'T_TOTDIS', 'T_OTHREC', 'T_TOREC', 'JOB', 'OCCUP', 'MEMBERS', 'AGELESS5', \n",
    "        'AGE5_17', 'EMPLOYED_PAY', 'EMPLOYED_PROF']\n",
    "FIES_df[subset].isnull().any()"
   ]
  },
  {
   "cell_type": "code",
   "execution_count": 59,
   "metadata": {},
   "outputs": [
    {
     "data": {
      "text/plain": [
       "FSIZE\n",
       "4.0     7551\n",
       "5.0     7309\n",
       "3.0     5854\n",
       "6.0     5564\n",
       "2.0     3959\n",
       "7.0     3568\n",
       "8.0     2124\n",
       "1.0     1849\n",
       "9.0     1157\n",
       "10.0     615\n",
       "11.0     311\n",
       "12.0     138\n",
       "13.0      88\n",
       "14.0      42\n",
       "15.0      22\n",
       "15.5       5\n",
       "18.0       4\n",
       "17.0       3\n",
       "16.0       3\n",
       "20.0       2\n",
       "19.0       2\n",
       "21.0       1\n",
       "Name: count, dtype: int64"
      ]
     },
     "execution_count": 59,
     "metadata": {},
     "output_type": "execute_result"
    }
   ],
   "source": [
    "FIES_df['FSIZE'].unique()\n",
    "FIES_df['FSIZE'].value_counts()\n",
    "FIES_df['FSIZE'] = FIES_df['FSIZE'].replace({1.5 : 2.0, 2.5 : 3.0, 3.5 : 4.0, 4.5 : 5.0, 5.5 : 6.0, 6.5 : 7.0, 7.5 : 8.0, 8.5 : 9.0, 9.5 : 10.0, 10.5 : 11.0, 11.5 : 12.0, \n",
    "                                             12.5 : 13.0, 13.5 : 14.0, 14.5 : 15.0, 16.5 : 17.0, 17.5 : 18.0, 18.5 : 19.0, 19.5 : 20, 20.5: 21})\n",
    "FIES_df['FSIZE'].value_counts()"
   ]
  },
  {
   "cell_type": "code",
   "execution_count": 63,
   "metadata": {},
   "outputs": [
    {
     "data": {
      "text/plain": [
       "array([     0,  32000, 749628, ..., 156300,  58100, 100761])"
      ]
     },
     "execution_count": 63,
     "metadata": {},
     "output_type": "execute_result"
    }
   ],
   "source": [
    "FIES_df['WAGES'].unique()\n",
    "FIES_df['WAGES'].value_counts()"
   ]
  },
  {
   "cell_type": "code",
   "execution_count": 65,
   "metadata": {},
   "outputs": [
    {
     "data": {
      "text/plain": [
       "TOINC\n",
       "168000    7\n",
       "88400     5\n",
       "94000     5\n",
       "145000    5\n",
       "109920    4\n",
       "         ..\n",
       "97386     1\n",
       "129320    1\n",
       "114824    1\n",
       "154925    1\n",
       "287600    1\n",
       "Name: count, Length: 37235, dtype: int64"
      ]
     },
     "execution_count": 65,
     "metadata": {},
     "output_type": "execute_result"
    }
   ],
   "source": [
    "FIES_df['TOINC'].unique()\n",
    "FIES_df['TOINC'].value_counts()"
   ]
  },
  {
   "cell_type": "code",
   "execution_count": 69,
   "metadata": {},
   "outputs": [
    {
     "data": {
      "text/plain": [
       "T_FOOD\n",
       "83482     5\n",
       "60584     5\n",
       "46766     5\n",
       "45220     5\n",
       "41548     5\n",
       "         ..\n",
       "53694     1\n",
       "126996    1\n",
       "111233    1\n",
       "113179    1\n",
       "65629     1\n",
       "Name: count, Length: 34433, dtype: int64"
      ]
     },
     "execution_count": 69,
     "metadata": {},
     "output_type": "execute_result"
    }
   ],
   "source": [
    "FIES_df['T_FOOD'].unique()\n",
    "FIES_df['T_FOOD'].value_counts()"
   ]
  },
  {
   "cell_type": "code",
   "execution_count": 72,
   "metadata": {},
   "outputs": [
    {
     "data": {
      "text/plain": [
       "T_CLOTH\n",
       "0        691\n",
       "600      108\n",
       "300      106\n",
       "1000     104\n",
       "500      102\n",
       "        ... \n",
       "45005      1\n",
       "7261       1\n",
       "12973      1\n",
       "3093       1\n",
       "4643       1\n",
       "Name: count, Length: 9283, dtype: int64"
      ]
     },
     "execution_count": 72,
     "metadata": {},
     "output_type": "execute_result"
    }
   ],
   "source": [
    "FIES_df['T_CLOTH'].unique()\n",
    "FIES_df['T_CLOTH'].value_counts()"
   ]
  },
  {
   "cell_type": "code",
   "execution_count": 74,
   "metadata": {},
   "outputs": [
    {
     "data": {
      "text/plain": [
       "T_FURNISHING\n",
       "0        65\n",
       "1068     41\n",
       "780      34\n",
       "912      33\n",
       "900      32\n",
       "         ..\n",
       "19561     1\n",
       "34366     1\n",
       "14012     1\n",
       "3784      1\n",
       "13859     1\n",
       "Name: count, Length: 10377, dtype: int64"
      ]
     },
     "execution_count": 74,
     "metadata": {},
     "output_type": "execute_result"
    }
   ],
   "source": [
    "FIES_df['T_FURNISHING'].unique()\n",
    "FIES_df['T_FURNISHING'].value_counts()"
   ]
  }
 ],
 "metadata": {
  "kernelspec": {
   "display_name": "Python 3",
   "language": "python",
   "name": "python3"
  },
  "language_info": {
   "codemirror_mode": {
    "name": "ipython",
    "version": 3
   },
   "file_extension": ".py",
   "mimetype": "text/x-python",
   "name": "python",
   "nbconvert_exporter": "python",
   "pygments_lexer": "ipython3",
   "version": "3.12.0"
  }
 },
 "nbformat": 4,
 "nbformat_minor": 2
}
