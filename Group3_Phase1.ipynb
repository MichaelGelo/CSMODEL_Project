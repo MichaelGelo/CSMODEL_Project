{
 "cells": [
  {
   "cell_type": "markdown",
   "metadata": {},
   "source": [
    "# **Group 3: Ang, Depasucat, Padilla, Yee**"
   ]
  },
  {
   "cell_type": "markdown",
   "metadata": {},
   "source": [
    "***"
   ]
  },
  {
   "cell_type": "markdown",
   "metadata": {},
   "source": [
    "##  **Dataset Description**"
   ]
  },
  {
   "cell_type": "markdown",
   "metadata": {},
   "source": [
    "### Description of the Dataset"
   ]
  },
  {
   "cell_type": "markdown",
   "metadata": {},
   "source": [
    "The dataset used in this project is Dataset #1, titled Family Income and Expenditure Survey 2012 Vol 1, and can be accessed via this link ([Family Income and Expenditure Survey 2012 Vol 1](https://psada.psa.gov.ph/catalog/38/get-microdata)).\n",
    "\n",
    "This dataset was collected through a sample survey aimed at providing income and expenditure data for the country and its 17 regions. It includes information on sources of income (both in cash and in kind) and levels of consumption by expenditure item. The dataset serves as a key source of information on human development, offering insights for government policies and programs aimed at improving the socio-economic well-being of Filipino families."
   ]
  },
  {
   "cell_type": "markdown",
   "metadata": {},
   "source": [
    "###  Collection Process"
   ]
  },
  {
   "cell_type": "markdown",
   "metadata": {},
   "source": [
    "The 2012 FIES began by selecting a sample based on the 2003 Master Sample, which categorized the country into primary sampling units (PSUs) by regions. Data collection occurred in two phases: the first one in July 2012 and the second one in January 2013. Interviews were held in person with households during both rounds. Enumerators received in-depth training and were closely supervised to ensure the accuracy and completeness of the gathered data. If households were not reachable or refused to take part, surveyors conducted extra visits to minimize non-response. After collecting data, a thorough verification process was carried out manually and electronically to guarantee accuracy and consistency, using specialized software to uphold data quality. This resulted in a 90.1% response rate for the survey, showing widespread participation from households across the country."
   ]
  },
  {
   "cell_type": "markdown",
   "metadata": {},
   "source": []
  },
  {
   "cell_type": "markdown",
   "metadata": {},
   "source": [
    "***"
   ]
  },
  {
   "cell_type": "markdown",
   "metadata": {},
   "source": [
    "## Data Cleaning"
   ]
  },
  {
   "cell_type": "markdown",
   "metadata": {},
   "source": [
    "## Import"
   ]
  },
  {
   "cell_type": "code",
   "execution_count": 1,
   "metadata": {},
   "outputs": [],
   "source": [
    "import numpy as np\n",
    "import pandas as pd"
   ]
  },
  {
   "cell_type": "markdown",
   "metadata": {},
   "source": [
    "## Reading the Dataset"
   ]
  },
  {
   "cell_type": "code",
   "execution_count": 4,
   "metadata": {},
   "outputs": [
    {
     "name": "stdout",
     "output_type": "stream",
     "text": [
      "<class 'pandas.core.frame.DataFrame'>\n",
      "RangeIndex: 40171 entries, 0 to 40170\n",
      "Columns: 119 entries, W_REGN to REGPC\n",
      "dtypes: float64(5), int64(92), object(22)\n",
      "memory usage: 36.5+ MB\n"
     ]
    }
   ],
   "source": [
    "FIES_df = pd.read_csv('FIES PUF 2012 Vol.1.CSV')\n",
    "FIES_df.info()"
   ]
  },
  {
   "cell_type": "code",
   "execution_count": 5,
   "metadata": {},
   "outputs": [
    {
     "data": {
      "text/plain": [
       "array([14, 16,  6,  5, 15,  3,  2, 41,  7, 10, 11,  8,  1, 13, 42, 12,  9])"
      ]
     },
     "execution_count": 5,
     "metadata": {},
     "output_type": "execute_result"
    }
   ],
   "source": [
    "FIES_df['W_REGN'].unique()"
   ]
  }
 ],
 "metadata": {
  "kernelspec": {
   "display_name": "Python 3",
   "language": "python",
   "name": "python3"
  },
  "language_info": {
   "codemirror_mode": {
    "name": "ipython",
    "version": 3
   },
   "file_extension": ".py",
   "mimetype": "text/x-python",
   "name": "python",
   "nbconvert_exporter": "python",
   "pygments_lexer": "ipython3",
   "version": "3.12.0"
  }
 },
 "nbformat": 4,
 "nbformat_minor": 2
}
