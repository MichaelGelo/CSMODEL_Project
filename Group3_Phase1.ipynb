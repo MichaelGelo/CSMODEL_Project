{
 "cells": [
  {
   "cell_type": "markdown",
   "metadata": {},
   "source": [
    "# **Group 3: Ang, Depasucat, Padilla, Yee**"
   ]
  },
  {
   "cell_type": "markdown",
   "metadata": {},
   "source": [
    "***"
   ]
  },
  {
   "cell_type": "markdown",
   "metadata": {},
   "source": [
    "##  **Dataset Description**"
   ]
  },
  {
   "cell_type": "markdown",
   "metadata": {},
   "source": [
    "### Description of the Dataset"
   ]
  },
  {
   "cell_type": "markdown",
   "metadata": {},
   "source": [
    "The dataset used in this project is Dataset #1, titled Family Income and Expenditure Survey 2012 Vol 1, and can be accessed via this link ([Family Income and Expenditure Survey 2012 Vol 1](https://psada.psa.gov.ph/catalog/38/get-microdata)).\n",
    "\n",
    "This dataset was collected through a sample survey aimed at providing income and expenditure data for the country and its 17 regions. It includes information on sources of income (both in cash and in kind) and levels of consumption by expenditure item. The dataset serves as a key source of information on human development, offering insights for government policies and programs aimed at improving the socio-economic well-being of Filipino families."
   ]
  },
  {
   "cell_type": "markdown",
   "metadata": {},
   "source": [
    "###  Collection Process"
   ]
  },
  {
   "cell_type": "markdown",
   "metadata": {},
   "source": [
    "The 2012 Family Income and Expenditure Survey (FIES) is a survey sample that aims to gather income and expenditure information for the Philippines and its seventeen regions. Data was gathered in two separate periods, in July 2012 and January 2013, by conducting in-person interviews with around 50,000 households. Enumerators were given thorough training and supervision to guarantee the accuracy and completeness of the collected data. Supervisors carried out quality assessments, such as repeat interviews, to ensure precision. The gathered data was carefully reviewed and edited both manually and by machine, which included checks for completeness, validations for consistency, and macro edits using the FAME system. The survey attained an impressive 90.1% response rate, offering thorough socioeconomic information on family finances at national and regional levels."
   ]
  },
  {
   "cell_type": "markdown",
   "metadata": {},
   "source": [
    "### Implications"
   ]
  },
  {
   "cell_type": "markdown",
   "metadata": {},
   "source": [
    "The face-to-face data collection in the 2012 Family Income and Expenditure Survey (FIES) prompted more responses, resulting in a 90.1% response rate and showing a low non-response bias. However, the presence of enumerators may unintentionally impact respondents' responses, particularly for sensitive financial data. Furthermore, the survey deliberately excludes institutional populations (e.g., dormitories, care homes, and prisons), focusing entirely on private households, as stated on page 2 of the documentation. Because of this exclusion bias, the survey may not fully represent certain population sections, thereby providing insufficient insights on income and expenditure patterns."
   ]
  },
  {
   "cell_type": "markdown",
   "metadata": {},
   "source": [
    "### Structure of the Dataset File"
   ]
  },
  {
   "cell_type": "markdown",
   "metadata": {},
   "source": [
    "- The dataset contains 119 columns, each of which represents a specific variable associated to individual households. Each row in the dataset represents a household that participated in the survey. The dataset contains information about expenditures, housing characteristics, social protection, income, other revenues, and entrepreneurial activity.\n",
    "\n",
    "- The dataset contains 40,171 observations and 119 variables.\n",
    "\n",
    "- Variables:\n",
    "\n",
    "| **Name**                  | **Label**                                                                                                            |\n",
    "|:---------------------:|:--------------------------------------------------------------------------------------------------------------:|\n",
    "| w_regn                | Region                                                                                                         |\n",
    "| w_oid                 | Other ID                                                                                                      |\n",
    "| w_shsn                | Sample Household Serial Number                                                                                 |\n",
    "| w_hcn                 | Household Control Number                                                                                       |\n",
    "| psu                   | Psu (Recode)                                                                                                  |\n",
    "| urb                   | Urban/Rural                                                                                                   |\n",
    "| rstr                  | Stratum (Recode)                                                                                              |\n",
    "| bweight               | Base Weight                                                                                                   |\n",
    "| rfact                 | Final Weight                                                                                                  |\n",
    "| fsize                 | Family Size                                                                                                   |\n",
    "| agri_sal              | Salaries/Wages from Agricultural Activity                                                                     |\n",
    "| nonagri_sal          | Salaries/Wages from Non-Agricultural Activity                                                                 |\n",
    "| wages                 | Salaries/Wages from both Agri and Non-Agri Activities                                                         |\n",
    "| netshare              | Net Share of Crops, Fruits and Vegetables Produced, Aquaculture Products Harvested, or Livestock and Poultry Raised by Other Households (Tot. Net Value of Share) |\n",
    "| cash_abroad           | Cash Receipts, Support, Relief and Other Forms of Assistance from Abroad                                       |\n",
    "| cash_domestic         | Cash Receipts, Support, Assistance and Relief from Domestic Source                                            |\n",
    "| rentals_rec           | Rentals Received from Non-Agri Lands, Buildings, Spaces and Other Properties                                  |\n",
    "| interest              | Interest                                                                                                       |\n",
    "| pension               | Pension and Retirement Benefits                                                                                 |\n",
    "| dividends             | Dividends from Investment                                                                                     |\n",
    "| other_source          | Other Sources of Income NEC                                                                                    |\n",
    "| net_receipt           | Family Sustenance Activities                                                                                    |\n",
    "| regft                 | Total Received as Gifts                                                                                        |\n",
    "| net_cfg               | Crop Farming and Gardening                                                                                     |\n",
    "| net_lpr               | Livestock and Poultry Raising                                                                                 |\n",
    "| net_fish              | Fishing                                                                                                        |\n",
    "| net_for               | Forestry and Hunting                                                                                           |\n",
    "| net_ret               | Wholesale and Retail                                                                                           |\n",
    "| net_mfg               | Manufacturing                                                                                                  |\n",
    "| net_com               | Community, Social, Recreational and Personal Services                                                         |\n",
    "| net_trans             | Transportation, Storage, and Communication Services                                                           |\n",
    "| net_min               | Mining and Quarrying                                                                                           |\n",
    "| net_cons              | Construction                                                                                                   |\n",
    "| net_nec               | Entrep. Activities NEC                                                                                        |\n",
    "| eainc                 | Total Income from Entrepreneurial Activities                                                                    |\n",
    "| toinc                 | Total Income                                                                                                   |\n",
    "| losses                | Losses from EA                                                                                                |\n",
    "| t_bread               | Bread and Cereal (Total)                                                                                      |\n",
    "| t_meat                | Meat (Total)                                                                                                  |\n",
    "| t_fish                | Fish and Seafood (Total)                                                                                      |\n",
    "| t_milk                | Milk, Cheese and Eggs (Total)                                                                                 |\n",
    "| t_oil                 | Oils and Fats (Total)                                                                                         |\n",
    "| t_fruit               | Fruits (Total)                                                                                                 |\n",
    "| t_veg                 | Vegetables (Total)                                                                                             |\n",
    "| t_food_nec           | Food Not Elsewhere Classified (Total)                                                                          |\n",
    "| t_sugar               | Sugar, Jam, Honey, Chocolate and confectionery (Total)                                                       |\n",
    "| t_coffee              | Coffee, Cocoa and Tea (Total)                                                                                 |\n",
    "| t_mineral            | Mineral water, soft drinks, fruit and vegetable juices (Total)                                                |\n",
    "| t_alcohol             | Alcoholic Beverages (Total)                                                                                   |\n",
    "| t_tobacco             | Tobacco (Total)                                                                                               |\n",
    "| t_other_veg          | Other Vegetables-based products (Total)                                                                       |\n",
    "| t_food_home          | Total Food Consumed at Home (Total)                                                                           |\n",
    "| t_food_outside       | Food Regularly Consumed Outside The Home (Total)                                                              |\n",
    "| t_food               | Total Food Expenditures                                                                                        |\n",
    "| t_cloth              | Clothing and Footwear (Total)                                                                                 |\n",
    "| t_furnishing         | Furnishings, Household equipment and routine household maintenance (Total)                                     |\n",
    "| t_health             | Health (Total)                                                                                                |\n",
    "| t_housing_water      | Housing and water (Total)                                                                                     |\n",
    "| t_actrent            | Actual House Rent                                                                                             |\n",
    "| t_rentval            | House Rent/Rental Value                                                                                        |\n",
    "| t_imputed_rent       | Imputed House Rental Value                                                                                     |\n",
    "| t_bimputed_rent      | Imputed Housing Benefit Rental Value                                                                           |\n",
    "| t_transport          | Transport (Total)                                                                                             |\n",
    "| t_communication      | Communication (Total)                                                                                         |\n",
    "| t_recreation         | Recreation and culture (Total)                                                                                 |\n",
    "| t_education          | Education (Total)                                                                                              |\n",
    "| t_miscellaneous      | Miscellaneous Goods and Services (Total)                                                                      |\n",
    "| t_other_expenditure   | Other Expenditure (inc. Value Consumed, Losses)                                                              |\n",
    "| t_other_disbursement  | Other Disbursements                                                                                            |\n",
    "| t_nfood              | Total Non-Food Expenditure                                                                                     |\n",
    "| t_totex             | Total Expenditure                                                                                              |\n",
    "| t_totdis            | Total Disbursements                                                                                           |\n",
    "| t_othrec            | Total Other Receipts                                                                                           |\n",
    "| t_torec             | Total Receipts                                                                                                |\n",
    "| food_accom_srvc      | Food Regularly Consumed Outside The Home - Accommodation Services                                             |\n",
    "| sex                  | Household Head Sex (2nd visit only)                                                                           |\n",
    "| age                  | Household Head Age (2nd visit only)                                                                           |\n",
    "| ms                   | Household Head Marital Status (2nd visit only)                                                                |\n",
    "| hgc                  | Household Head Highest Grade Completed (2nd visit only)                                                       |\n",
    "| job                  | Household Head Job or Business Indicator (2nd visit only)                                                    |\n",
    "| occup                | Household Head Occupation (2nd visit only)                                                                    |\n",
    "| kb                   | Household Head Kind of Business/Industry (2nd visit only)                                                   |\n",
    "| cw                   | Household Head Class of Worker (2nd visit only)                                                               |\n",
    "| hhtype               | Type of Household (2nd visit only)                                                                            |\n",
    "| members              | Total Number of Family members (2nd visit only)                                                               |\n",
    "| ageless5             | Members with age less than 5 year old (2nd visit only)                                                      |\n",
    "| age5_17             | Members with age 5 - 17 years old (2nd visit only)                                                           |\n",
    "| employed_pay         | Total number of family members employed for pay (2nd visit only)                                             |\n",
    "| employed_prof        | Total number of family members employed for profit (2nd visit only)                                           |\n",
    "| spouse_emp           | Spouse has job/business (2nd visit only)                                                                      |\n",
    "| bldg_type            | Type of Building/House (2nd visit only)                                                                      |\n",
    "| roof                 | Type of Roof (2nd visit only)                                                                                 |\n",
    "| walls                | Type of Walls (2nd visit only)                                                                                |\n",
    "| tenure               | Tenure Status (2nd visit only)                                                                                |\n",
    "| hse_altertn          | House Alteration                                                                                               |\n",
    "| toilet               | Toilet Facilities (2nd visit only)                                                                           |\n",
    "| electric             | Electricity Indicator (2nd visit only)                                                                        |\n",
    "| water                | Main Source of Water Supply (2nd visit only)                                                                  |\n",
    "| distance             | Distance of Water Source from the House (2nd visit only)                                                     |\n",
    "| radio_qty            | Number of Radios (2nd visit only)                                                                             |\n",
    "| tv_qty               | Number of Television (2nd visit only)                                                                         |\n",
    "| cd_qty               | Number of CD/VCD/DVD (2nd visit only)                                                                         |\n",
    "| stereo_qty           | Number of Component/Stereo set (2nd visit only)                                                               |\n",
    "| ref_qty              | Number of Refrigerator/Freezer (2nd visit only)                                                               |\n",
    "| wash_qty             | Number of Washing Machine (2nd visit only)                                                                    |\n",
    "| aircon_qty           | Number of Air Conditioner (2nd visit only)                                                                    |\n",
    "| car_qty              | Number of Car, Jeep, Van (2nd visit only)                                                                     |\n",
    "| landline_qty         | Number of Landline/wireless telephones (2nd visit only)                                                      |\n",
    "| cellphone_qty        | Number of Cellular phone (2nd visit only)                                                                    |\n",
    "| pc_qty               | Number of Personal Computer (2nd visit only)                                                                  |\n",
    "| oven_qty             | Number of Stove with Oven/Gas Range (2nd visit only)                                                         |\n",
    "| motor_banca_qty      | Number of Motorized Banca (2nd visit only)                                                                   |\n",
    "| motorcycle_qty       | Number of Motorcycle/Tricycle (2nd visit only)                                                               |\n",
    "| pop_adj              | Population Adjustment                                                                                          |\n",
    "| pcinc                | Per Capita Income                                                                                             |\n",
    "| natpc                | National per capita income decile                                                                              |\n",
    "| natdc                | National Income decile                                                                                         |\n",
    "| regdc                | Regional Income decile                                                                                         |\n",
    "| regpc                | Regional per capita income decile                                                                              |\n",
    "\n"
   ]
  },
  {
   "cell_type": "markdown",
   "metadata": {},
   "source": [
    "***"
   ]
  },
  {
   "cell_type": "markdown",
   "metadata": {},
   "source": [
    "## **Data Cleaning**"
   ]
  },
  {
   "cell_type": "markdown",
   "metadata": {},
   "source": [
    "### Import"
   ]
  },
  {
   "cell_type": "code",
   "execution_count": 27,
   "metadata": {},
   "outputs": [],
   "source": [
    "import numpy as np\n",
    "import pandas as pd\n",
    "import matplotlib.pyplot as plt"
   ]
  },
  {
   "cell_type": "markdown",
   "metadata": {},
   "source": [
    "### Reading the Dataset"
   ]
  },
  {
   "cell_type": "code",
   "execution_count": 6,
   "metadata": {},
   "outputs": [
    {
     "name": "stdout",
     "output_type": "stream",
     "text": [
      "<class 'pandas.core.frame.DataFrame'>\n",
      "RangeIndex: 40171 entries, 0 to 40170\n",
      "Columns: 119 entries, W_REGN to REGPC\n",
      "dtypes: float64(5), int64(92), object(22)\n",
      "memory usage: 36.5+ MB\n"
     ]
    },
    {
     "data": {
      "text/plain": [
       "FSIZE                   False\n",
       "WAGES                   False\n",
       "TOINC                   False\n",
       "T_FOOD                  False\n",
       "T_CLOTH                 False\n",
       "T_FURNISHING            False\n",
       "T_HEALTH                False\n",
       "T_HOUSING_WATER         False\n",
       "T_TRANSPORT             False\n",
       "T_COMMUNICATION         False\n",
       "T_RECREATION            False\n",
       "T_EDUCATION             False\n",
       "T_MISCELLANEOUS         False\n",
       "T_OTHER_EXPENDITURE     False\n",
       "T_OTHER_DISBURSEMENT    False\n",
       "T_NFOOD                 False\n",
       "T_TOTEX                 False\n",
       "T_TOTDIS                False\n",
       "T_OTHREC                False\n",
       "T_TOREC                 False\n",
       "JOB                     False\n",
       "OCCUP                   False\n",
       "MEMBERS                 False\n",
       "AGELESS5                False\n",
       "AGE5_17                 False\n",
       "EMPLOYED_PAY            False\n",
       "EMPLOYED_PROF           False\n",
       "dtype: bool"
      ]
     },
     "execution_count": 6,
     "metadata": {},
     "output_type": "execute_result"
    }
   ],
   "source": [
    "FIES_df = pd.read_csv('FIES PUF 2012 Vol.1.CSV')\n",
    "FIES_df.info()\n",
    "subset = ['FSIZE', 'WAGES', 'TOINC', 'T_FOOD', 'T_CLOTH', 'T_FURNISHING', 'T_HEALTH', 'T_HOUSING_WATER', 'T_TRANSPORT', 'T_COMMUNICATION', 'T_RECREATION', 'T_EDUCATION', \n",
    "        'T_MISCELLANEOUS', 'T_OTHER_EXPENDITURE', 'T_OTHER_DISBURSEMENT', 'T_NFOOD', 'T_TOTEX', 'T_TOTDIS', 'T_OTHREC', 'T_TOREC', 'JOB', 'OCCUP', 'MEMBERS', 'AGELESS5', \n",
    "        'AGE5_17', 'EMPLOYED_PAY', 'EMPLOYED_PROF']\n",
    "FIES_df[subset].isnull().any()"
   ]
  },
  {
   "cell_type": "code",
   "execution_count": 4,
   "metadata": {},
   "outputs": [
    {
     "data": {
      "text/html": [
       "<div>\n",
       "<style scoped>\n",
       "    .dataframe tbody tr th:only-of-type {\n",
       "        vertical-align: middle;\n",
       "    }\n",
       "\n",
       "    .dataframe tbody tr th {\n",
       "        vertical-align: top;\n",
       "    }\n",
       "\n",
       "    .dataframe thead th {\n",
       "        text-align: right;\n",
       "    }\n",
       "</style>\n",
       "<table border=\"1\" class=\"dataframe\">\n",
       "  <thead>\n",
       "    <tr style=\"text-align: right;\">\n",
       "      <th></th>\n",
       "      <th>W_REGN</th>\n",
       "      <th>W_OID</th>\n",
       "      <th>W_SHSN</th>\n",
       "      <th>W_HCN</th>\n",
       "      <th>URB</th>\n",
       "      <th>RSTR</th>\n",
       "      <th>PSU</th>\n",
       "      <th>BWEIGHT</th>\n",
       "      <th>RFACT</th>\n",
       "      <th>FSIZE</th>\n",
       "      <th>...</th>\n",
       "      <th>PC_QTY</th>\n",
       "      <th>OVEN_QTY</th>\n",
       "      <th>MOTOR_BANCA_QTY</th>\n",
       "      <th>MOTORCYCLE_QTY</th>\n",
       "      <th>POP_ADJ</th>\n",
       "      <th>PCINC</th>\n",
       "      <th>NATPC</th>\n",
       "      <th>NATDC</th>\n",
       "      <th>REGDC</th>\n",
       "      <th>REGPC</th>\n",
       "    </tr>\n",
       "  </thead>\n",
       "  <tbody>\n",
       "  </tbody>\n",
       "</table>\n",
       "<p>0 rows × 119 columns</p>\n",
       "</div>"
      ],
      "text/plain": [
       "Empty DataFrame\n",
       "Columns: [W_REGN, W_OID, W_SHSN, W_HCN, URB, RSTR, PSU, BWEIGHT, RFACT, FSIZE, AGRI_SAL, NONAGRI_SAL, WAGES, NETSHARE, CASH_ABROAD, CASH_DOMESTIC, RENTALS_REC, INTEREST, PENSION, DIVIDENDS, OTHER_SOURCE, NET_RECEIPT, REGFT, NET_CFG, NET_LPR, NET_FISH, NET_FOR, NET_RET, NET_MFG, NET_COM, NET_TRANS, NET_MIN, NET_CONS, NET_NEC, EAINC, TOINC, LOSSES, T_BREAD, T_MEAT, T_FISH, T_MILK, T_OIL, T_FRUIT, T_VEG, T_SUGAR, T_FOOD_NEC, T_COFFEE, T_MINERAL, T_ALCOHOL, T_TOBACCO, T_OTHER_VEG, T_FOOD_HOME, T_FOOD_OUTSIDE, T_FOOD, T_CLOTH, T_FURNISHING, T_HEALTH, T_HOUSING_WATER, T_ACTRENT, T_RENTVAL, T_IMPUTED_RENT, T_BIMPUTED_RENT, T_TRANSPORT, T_COMMUNICATION, T_RECREATION, T_EDUCATION, T_MISCELLANEOUS, T_OTHER_EXPENDITURE, T_OTHER_DISBURSEMENT, T_NFOOD, T_TOTEX, T_TOTDIS, T_OTHREC, T_TOREC, FOOD_ACCOM_SRVC, SEX, AGE, MS, HGC, JOB, OCCUP, KB, CW, HHTYPE, MEMBERS, AGELESS5, AGE5_17, EMPLOYED_PAY, EMPLOYED_PROF, SPOUSE_EMP, BLDG_TYPE, ROOF, WALLS, TENURE, HSE_ALTERTN, TOILET, ELECTRIC, WATER, DISTANCE, RADIO_QTY, ...]\n",
       "Index: []\n",
       "\n",
       "[0 rows x 119 columns]"
      ]
     },
     "execution_count": 4,
     "metadata": {},
     "output_type": "execute_result"
    }
   ],
   "source": [
    "duplicates = FIES_df.duplicated()\n",
    "\n",
    "duplicate_rows = FIES_df[duplicates]\n",
    "duplicate_rows"
   ]
  },
  {
   "cell_type": "code",
   "execution_count": 5,
   "metadata": {},
   "outputs": [
    {
     "data": {
      "text/plain": [
       "FSIZE\n",
       "4.0     7551\n",
       "5.0     7309\n",
       "3.0     5854\n",
       "6.0     5564\n",
       "2.0     3959\n",
       "7.0     3568\n",
       "8.0     2124\n",
       "1.0     1849\n",
       "9.0     1157\n",
       "10.0     615\n",
       "11.0     311\n",
       "12.0     138\n",
       "13.0      88\n",
       "14.0      42\n",
       "15.0      22\n",
       "15.5       5\n",
       "18.0       4\n",
       "17.0       3\n",
       "16.0       3\n",
       "20.0       2\n",
       "19.0       2\n",
       "21.0       1\n",
       "Name: count, dtype: int64"
      ]
     },
     "execution_count": 5,
     "metadata": {},
     "output_type": "execute_result"
    }
   ],
   "source": [
    "FIES_df['FSIZE'].unique()\n",
    "FIES_df['FSIZE'].value_counts()\n",
    "FIES_df['FSIZE'] = FIES_df['FSIZE'].replace({1.5 : 2.0, 2.5 : 3.0, 3.5 : 4.0, 4.5 : 5.0, 5.5 : 6.0, 6.5 : 7.0, 7.5 : 8.0, 8.5 : 9.0, 9.5 : 10.0, 10.5 : 11.0, 11.5 : 12.0, \n",
    "                                             12.5 : 13.0, 13.5 : 14.0, 14.5 : 15.0, 16.5 : 17.0, 17.5 : 18.0, 18.5 : 19.0, 19.5 : 20, 20.5: 21})\n",
    "FIES_df['FSIZE'].value_counts()"
   ]
  },
  {
   "cell_type": "code",
   "execution_count": 6,
   "metadata": {},
   "outputs": [
    {
     "data": {
      "text/plain": [
       "WAGES\n",
       "0         9188\n",
       "18000      144\n",
       "12000      140\n",
       "39000      127\n",
       "36000      123\n",
       "          ... \n",
       "945800       1\n",
       "672022       1\n",
       "12360        1\n",
       "112600       1\n",
       "127930       1\n",
       "Name: count, Length: 15098, dtype: int64"
      ]
     },
     "execution_count": 6,
     "metadata": {},
     "output_type": "execute_result"
    }
   ],
   "source": [
    "FIES_df['WAGES'].unique()\n",
    "FIES_df['WAGES'].value_counts()"
   ]
  },
  {
   "cell_type": "code",
   "execution_count": 7,
   "metadata": {},
   "outputs": [
    {
     "data": {
      "text/plain": [
       "TOINC\n",
       "168000    7\n",
       "88400     5\n",
       "94000     5\n",
       "145000    5\n",
       "109920    4\n",
       "         ..\n",
       "97386     1\n",
       "129320    1\n",
       "114824    1\n",
       "154925    1\n",
       "287600    1\n",
       "Name: count, Length: 37235, dtype: int64"
      ]
     },
     "execution_count": 7,
     "metadata": {},
     "output_type": "execute_result"
    }
   ],
   "source": [
    "FIES_df['TOINC'].unique()\n",
    "FIES_df['TOINC'].value_counts()"
   ]
  },
  {
   "cell_type": "code",
   "execution_count": 8,
   "metadata": {},
   "outputs": [
    {
     "data": {
      "text/plain": [
       "T_FOOD\n",
       "83482     5\n",
       "60584     5\n",
       "46766     5\n",
       "45220     5\n",
       "41548     5\n",
       "         ..\n",
       "53694     1\n",
       "126996    1\n",
       "111233    1\n",
       "113179    1\n",
       "65629     1\n",
       "Name: count, Length: 34433, dtype: int64"
      ]
     },
     "execution_count": 8,
     "metadata": {},
     "output_type": "execute_result"
    }
   ],
   "source": [
    "FIES_df['T_FOOD'].unique()\n",
    "FIES_df['T_FOOD'].value_counts()"
   ]
  },
  {
   "cell_type": "code",
   "execution_count": 9,
   "metadata": {},
   "outputs": [
    {
     "data": {
      "text/plain": [
       "T_CLOTH\n",
       "0        691\n",
       "600      108\n",
       "300      106\n",
       "1000     104\n",
       "500      102\n",
       "        ... \n",
       "45005      1\n",
       "7261       1\n",
       "12973      1\n",
       "3093       1\n",
       "4643       1\n",
       "Name: count, Length: 9283, dtype: int64"
      ]
     },
     "execution_count": 9,
     "metadata": {},
     "output_type": "execute_result"
    }
   ],
   "source": [
    "FIES_df['T_CLOTH'].unique()\n",
    "FIES_df['T_CLOTH'].value_counts()"
   ]
  },
  {
   "cell_type": "code",
   "execution_count": 10,
   "metadata": {},
   "outputs": [
    {
     "data": {
      "text/plain": [
       "T_FURNISHING\n",
       "0        65\n",
       "1068     41\n",
       "780      34\n",
       "912      33\n",
       "900      32\n",
       "         ..\n",
       "19561     1\n",
       "34366     1\n",
       "14012     1\n",
       "3784      1\n",
       "13859     1\n",
       "Name: count, Length: 10377, dtype: int64"
      ]
     },
     "execution_count": 10,
     "metadata": {},
     "output_type": "execute_result"
    }
   ],
   "source": [
    "FIES_df['T_FURNISHING'].unique()\n",
    "FIES_df['T_FURNISHING'].value_counts()"
   ]
  },
  {
   "cell_type": "code",
   "execution_count": 11,
   "metadata": {},
   "outputs": [
    {
     "data": {
      "text/plain": [
       "T_HEALTH\n",
       "0        1971\n",
       "100       331\n",
       "50        293\n",
       "150       219\n",
       "60        206\n",
       "         ... \n",
       "10160       1\n",
       "30560       1\n",
       "14500       1\n",
       "24640       1\n",
       "27953       1\n",
       "Name: count, Length: 10837, dtype: int64"
      ]
     },
     "execution_count": 11,
     "metadata": {},
     "output_type": "execute_result"
    }
   ],
   "source": [
    "FIES_df['T_HEALTH'].unique()\n",
    "FIES_df['T_HEALTH'].value_counts()"
   ]
  },
  {
   "cell_type": "code",
   "execution_count": 12,
   "metadata": {},
   "outputs": [
    {
     "data": {
      "text/plain": [
       "T_HOUSING_WATER\n",
       "10200     58\n",
       "9120      47\n",
       "10800     46\n",
       "9300      46\n",
       "9900      45\n",
       "          ..\n",
       "105264     1\n",
       "71334      1\n",
       "61302      1\n",
       "63228      1\n",
       "111906     1\n",
       "Name: count, Length: 12593, dtype: int64"
      ]
     },
     "execution_count": 12,
     "metadata": {},
     "output_type": "execute_result"
    }
   ],
   "source": [
    "FIES_df['T_HOUSING_WATER'].unique()\n",
    "FIES_df['T_HOUSING_WATER'].value_counts()"
   ]
  },
  {
   "cell_type": "code",
   "execution_count": 13,
   "metadata": {},
   "outputs": [
    {
     "data": {
      "text/plain": [
       "T_TRANSPORT\n",
       "0         638\n",
       "1200      312\n",
       "720       289\n",
       "960       287\n",
       "1440      258\n",
       "         ... \n",
       "41502       1\n",
       "92262       1\n",
       "29808       1\n",
       "174660      1\n",
       "25266       1\n",
       "Name: count, Length: 7600, dtype: int64"
      ]
     },
     "execution_count": 13,
     "metadata": {},
     "output_type": "execute_result"
    }
   ],
   "source": [
    "FIES_df['T_TRANSPORT'].unique()\n",
    "FIES_df['T_TRANSPORT'].value_counts()\n"
   ]
  },
  {
   "cell_type": "code",
   "execution_count": 14,
   "metadata": {},
   "outputs": [
    {
     "data": {
      "text/plain": [
       "T_COMMUNICATION\n",
       "0        5989\n",
       "360       677\n",
       "720       582\n",
       "180       538\n",
       "1080      504\n",
       "         ... \n",
       "48120       1\n",
       "23034       1\n",
       "18834       1\n",
       "18264       1\n",
       "40140       1\n",
       "Name: count, Length: 3805, dtype: int64"
      ]
     },
     "execution_count": 14,
     "metadata": {},
     "output_type": "execute_result"
    }
   ],
   "source": [
    "FIES_df['T_COMMUNICATION'].unique()\n",
    "FIES_df['T_COMMUNICATION'].value_counts()"
   ]
  },
  {
   "cell_type": "code",
   "execution_count": 15,
   "metadata": {},
   "outputs": [
    {
     "data": {
      "text/plain": [
       "T_RECREATION\n",
       "0        7472\n",
       "300       211\n",
       "200       197\n",
       "100       188\n",
       "500       166\n",
       "         ... \n",
       "30653       1\n",
       "2702        1\n",
       "9134        1\n",
       "2041        1\n",
       "4414        1\n",
       "Name: count, Length: 6954, dtype: int64"
      ]
     },
     "execution_count": 15,
     "metadata": {},
     "output_type": "execute_result"
    }
   ],
   "source": [
    "FIES_df['T_RECREATION'].unique()\n",
    "FIES_df['T_RECREATION'].value_counts()"
   ]
  },
  {
   "cell_type": "code",
   "execution_count": 16,
   "metadata": {},
   "outputs": [
    {
     "data": {
      "text/plain": [
       "T_EDUCATION\n",
       "0        12781\n",
       "300        391\n",
       "500        344\n",
       "600        300\n",
       "200        295\n",
       "         ...  \n",
       "19155        1\n",
       "6077         1\n",
       "15330        1\n",
       "12847        1\n",
       "15796        1\n",
       "Name: count, Length: 6578, dtype: int64"
      ]
     },
     "execution_count": 16,
     "metadata": {},
     "output_type": "execute_result"
    }
   ],
   "source": [
    "FIES_df['T_EDUCATION'].unique()\n",
    "FIES_df['T_EDUCATION'].value_counts()"
   ]
  },
  {
   "cell_type": "code",
   "execution_count": 17,
   "metadata": {},
   "outputs": [
    {
     "data": {
      "text/plain": [
       "T_MISCELLANEOUS\n",
       "2340     46\n",
       "3240     43\n",
       "3096     43\n",
       "2736     42\n",
       "2928     41\n",
       "         ..\n",
       "24762     1\n",
       "40272     1\n",
       "40062     1\n",
       "25872     1\n",
       "49014     1\n",
       "Name: count, Length: 7386, dtype: int64"
      ]
     },
     "execution_count": 17,
     "metadata": {},
     "output_type": "execute_result"
    }
   ],
   "source": [
    "FIES_df['T_MISCELLANEOUS'].unique()\n",
    "FIES_df['T_MISCELLANEOUS'].value_counts()"
   ]
  },
  {
   "cell_type": "code",
   "execution_count": 18,
   "metadata": {},
   "outputs": [
    {
     "data": {
      "text/plain": [
       "T_OTHER_EXPENDITURE\n",
       "0        6314\n",
       "100       745\n",
       "200       667\n",
       "300       614\n",
       "500       556\n",
       "         ... \n",
       "12354       1\n",
       "24120       1\n",
       "19380       1\n",
       "60172       1\n",
       "14550       1\n",
       "Name: count, Length: 7653, dtype: int64"
      ]
     },
     "execution_count": 18,
     "metadata": {},
     "output_type": "execute_result"
    }
   ],
   "source": [
    "FIES_df['T_OTHER_EXPENDITURE'].unique()\n",
    "FIES_df['T_OTHER_EXPENDITURE'].value_counts()"
   ]
  },
  {
   "cell_type": "code",
   "execution_count": 19,
   "metadata": {},
   "outputs": [
    {
     "data": {
      "text/plain": [
       "T_OTHER_DISBURSEMENT\n",
       "0         21146\n",
       "5000        504\n",
       "600         466\n",
       "10000       455\n",
       "2000        410\n",
       "          ...  \n",
       "84144         1\n",
       "95324         1\n",
       "127866        1\n",
       "109960        1\n",
       "441272        1\n",
       "Name: count, Length: 7477, dtype: int64"
      ]
     },
     "execution_count": 19,
     "metadata": {},
     "output_type": "execute_result"
    }
   ],
   "source": [
    "FIES_df['T_OTHER_DISBURSEMENT'].unique()\n",
    "FIES_df['T_OTHER_DISBURSEMENT'].value_counts()"
   ]
  },
  {
   "cell_type": "code",
   "execution_count": 20,
   "metadata": {},
   "outputs": [
    {
     "data": {
      "text/plain": [
       "T_NFOOD\n",
       "34909    5\n",
       "46862    5\n",
       "20003    5\n",
       "47833    5\n",
       "40195    5\n",
       "        ..\n",
       "45803    1\n",
       "52849    1\n",
       "24507    1\n",
       "54585    1\n",
       "38278    1\n",
       "Name: count, Length: 35202, dtype: int64"
      ]
     },
     "execution_count": 20,
     "metadata": {},
     "output_type": "execute_result"
    }
   ],
   "source": [
    "FIES_df['T_NFOOD'].unique()\n",
    "FIES_df['T_NFOOD'].value_counts()"
   ]
  },
  {
   "cell_type": "code",
   "execution_count": 21,
   "metadata": {},
   "outputs": [
    {
     "data": {
      "text/plain": [
       "T_TOTEX\n",
       "104301    4\n",
       "104668    4\n",
       "68741     4\n",
       "116161    4\n",
       "64266     4\n",
       "         ..\n",
       "120935    1\n",
       "184093    1\n",
       "144256    1\n",
       "167764    1\n",
       "246625    1\n",
       "Name: count, Length: 37450, dtype: int64"
      ]
     },
     "execution_count": 21,
     "metadata": {},
     "output_type": "execute_result"
    }
   ],
   "source": [
    "FIES_df['T_TOTEX'].unique()\n",
    "FIES_df['T_TOTEX'].value_counts()"
   ]
  },
  {
   "cell_type": "code",
   "execution_count": 22,
   "metadata": {},
   "outputs": [
    {
     "data": {
      "text/plain": [
       "T_TOTDIS\n",
       "48575     4\n",
       "80579     4\n",
       "104668    4\n",
       "116161    4\n",
       "74272     4\n",
       "         ..\n",
       "127627    1\n",
       "137061    1\n",
       "213321    1\n",
       "89325     1\n",
       "151093    1\n",
       "Name: count, Length: 37631, dtype: int64"
      ]
     },
     "execution_count": 22,
     "metadata": {},
     "output_type": "execute_result"
    }
   ],
   "source": [
    "FIES_df['T_TOTDIS'].unique()\n",
    "FIES_df['T_TOTDIS'].value_counts()"
   ]
  },
  {
   "cell_type": "code",
   "execution_count": 23,
   "metadata": {},
   "outputs": [
    {
     "data": {
      "text/plain": [
       "T_OTHREC\n",
       "0         18412\n",
       "5000       1060\n",
       "10000       801\n",
       "3000        661\n",
       "2000        545\n",
       "          ...  \n",
       "4848          1\n",
       "13108         1\n",
       "16820         1\n",
       "15050         1\n",
       "465962        1\n",
       "Name: count, Length: 6505, dtype: int64"
      ]
     },
     "execution_count": 23,
     "metadata": {},
     "output_type": "execute_result"
    }
   ],
   "source": [
    "FIES_df['T_OTHREC'].unique()\n",
    "FIES_df['T_OTHREC'].value_counts()"
   ]
  },
  {
   "cell_type": "code",
   "execution_count": 24,
   "metadata": {},
   "outputs": [
    {
     "data": {
      "text/plain": [
       "T_TOREC\n",
       "168000    6\n",
       "116720    5\n",
       "138860    5\n",
       "82520     4\n",
       "146500    4\n",
       "         ..\n",
       "97386     1\n",
       "155508    1\n",
       "139320    1\n",
       "199925    1\n",
       "110166    1\n",
       "Name: count, Length: 37456, dtype: int64"
      ]
     },
     "execution_count": 24,
     "metadata": {},
     "output_type": "execute_result"
    }
   ],
   "source": [
    "FIES_df['T_TOREC'].unique()\n",
    "FIES_df['T_TOREC'].value_counts()"
   ]
  },
  {
   "cell_type": "code",
   "execution_count": 25,
   "metadata": {},
   "outputs": [
    {
     "data": {
      "text/plain": [
       "JOB\n",
       "1    32797\n",
       "2     7374\n",
       "Name: count, dtype: int64"
      ]
     },
     "execution_count": 25,
     "metadata": {},
     "output_type": "execute_result"
    }
   ],
   "source": [
    "FIES_df['JOB'].unique()\n",
    "FIES_df['JOB'].value_counts()"
   ]
  },
  {
   "cell_type": "code",
   "execution_count": 26,
   "metadata": {},
   "outputs": [
    {
     "data": {
      "text/plain": [
       "OCCUP\n",
       "        7374\n",
       "9211    3507\n",
       "6111    3143\n",
       "1314    1942\n",
       "6112    1745\n",
       "        ... \n",
       "7134       1\n",
       "3224       1\n",
       "5111       1\n",
       "1144       1\n",
       "2443       1\n",
       "Name: count, Length: 380, dtype: int64"
      ]
     },
     "execution_count": 26,
     "metadata": {},
     "output_type": "execute_result"
    }
   ],
   "source": [
    "FIES_df['OCCUP'].unique()\n",
    "FIES_df['OCCUP'].value_counts()"
   ]
  },
  {
   "cell_type": "code",
   "execution_count": 27,
   "metadata": {},
   "outputs": [
    {
     "data": {
      "text/plain": [
       "MEMBERS\n",
       "4     7532\n",
       "5     6987\n",
       "3     6106\n",
       "6     5176\n",
       "2     4449\n",
       "7     3347\n",
       "1     2287\n",
       "8     1962\n",
       "9     1084\n",
       "10     602\n",
       "11     304\n",
       "12     157\n",
       "13      85\n",
       "14      44\n",
       "15      26\n",
       "16       7\n",
       "17       5\n",
       "18       4\n",
       "20       3\n",
       "19       2\n",
       "23       1\n",
       "22       1\n",
       "Name: count, dtype: int64"
      ]
     },
     "execution_count": 27,
     "metadata": {},
     "output_type": "execute_result"
    }
   ],
   "source": [
    "FIES_df['MEMBERS'].unique()\n",
    "FIES_df['MEMBERS'].value_counts()"
   ]
  },
  {
   "cell_type": "code",
   "execution_count": 28,
   "metadata": {},
   "outputs": [
    {
     "data": {
      "text/plain": [
       "AGELESS5\n",
       "00    11565\n",
       "01     9403\n",
       "02     3182\n",
       "03      561\n",
       "04       74\n",
       "05       20\n",
       "07        2\n",
       "10        1\n",
       "06        1\n",
       "08        1\n",
       "Name: count, dtype: int64"
      ]
     },
     "execution_count": 28,
     "metadata": {},
     "output_type": "execute_result"
    }
   ],
   "source": [
    "FIES_df['AGELESS5'].unique()\n",
    "FIES_df['AGELESS5'] = FIES_df['AGELESS5'].replace({ \"  \" : np.nan})\n",
    "FIES_df['AGELESS5'].value_counts()"
   ]
  },
  {
   "cell_type": "code",
   "execution_count": 29,
   "metadata": {},
   "outputs": [
    {
     "data": {
      "text/plain": [
       "AGE5_17\n",
       "01    9568\n",
       "02    7801\n",
       "00    6014\n",
       "03    4746\n",
       "04    2395\n",
       "05     955\n",
       "06     327\n",
       "07      91\n",
       "08      21\n",
       "09       8\n",
       "10       3\n",
       "14       2\n",
       "13       1\n",
       "11       1\n",
       "12       1\n",
       "Name: count, dtype: int64"
      ]
     },
     "execution_count": 29,
     "metadata": {},
     "output_type": "execute_result"
    }
   ],
   "source": [
    "FIES_df['AGE5_17'].unique()\n",
    "FIES_df['AGE5_17'] = FIES_df['AGE5_17'].replace({ \"  \" : np.nan})\n",
    "FIES_df['AGE5_17'].value_counts()"
   ]
  },
  {
   "cell_type": "code",
   "execution_count": 30,
   "metadata": {},
   "outputs": [
    {
     "data": {
      "text/plain": [
       "EMPLOYED_PAY\n",
       "01    14821\n",
       "02     8901\n",
       "00     3378\n",
       "03     3166\n",
       "04     1122\n",
       "05      365\n",
       "06       85\n",
       "07       25\n",
       "08        9\n",
       "09        3\n",
       "Name: count, dtype: int64"
      ]
     },
     "execution_count": 30,
     "metadata": {},
     "output_type": "execute_result"
    }
   ],
   "source": [
    "FIES_df['EMPLOYED_PAY'].unique()    \n",
    "FIES_df['EMPLOYED_PAY'] = FIES_df['EMPLOYED_PAY'].replace({ \"  \" : np.nan})\n",
    "FIES_df['EMPLOYED_PAY'].value_counts()"
   ]
  },
  {
   "cell_type": "code",
   "execution_count": 31,
   "metadata": {},
   "outputs": [
    {
     "data": {
      "text/plain": [
       "EMPLOYED_PROF\n",
       "01    17008\n",
       "02     5068\n",
       "00     4327\n",
       "03      777\n",
       "04      205\n",
       "05       57\n",
       "06       25\n",
       "07        3\n",
       "08        2\n",
       "10        1\n",
       "Name: count, dtype: int64"
      ]
     },
     "execution_count": 31,
     "metadata": {},
     "output_type": "execute_result"
    }
   ],
   "source": [
    "FIES_df['EMPLOYED_PROF'].unique()\n",
    "FIES_df['EMPLOYED_PROF'] = FIES_df['EMPLOYED_PROF'].replace({ \"  \" : np.nan})\n",
    "FIES_df['EMPLOYED_PROF'].value_counts()"
   ]
  },
  {
   "cell_type": "code",
   "execution_count": 32,
   "metadata": {},
   "outputs": [
    {
     "data": {
      "text/plain": [
       "FSIZE                   False\n",
       "WAGES                   False\n",
       "TOINC                   False\n",
       "T_FOOD                  False\n",
       "T_CLOTH                 False\n",
       "T_FURNISHING            False\n",
       "T_HEALTH                False\n",
       "T_HOUSING_WATER         False\n",
       "T_TRANSPORT             False\n",
       "T_COMMUNICATION         False\n",
       "T_RECREATION            False\n",
       "T_EDUCATION             False\n",
       "T_MISCELLANEOUS         False\n",
       "T_OTHER_EXPENDITURE     False\n",
       "T_OTHER_DISBURSEMENT    False\n",
       "T_NFOOD                 False\n",
       "T_TOTEX                 False\n",
       "T_TOTDIS                False\n",
       "T_OTHREC                False\n",
       "T_TOREC                 False\n",
       "JOB                     False\n",
       "OCCUP                   False\n",
       "MEMBERS                 False\n",
       "AGELESS5                 True\n",
       "AGE5_17                  True\n",
       "EMPLOYED_PAY             True\n",
       "EMPLOYED_PROF            True\n",
       "dtype: bool"
      ]
     },
     "execution_count": 32,
     "metadata": {},
     "output_type": "execute_result"
    }
   ],
   "source": [
    "FIES_df[subset].isnull().any()"
   ]
  },
  {
   "cell_type": "markdown",
   "metadata": {},
   "source": [
    "## Exploratory Data Analysis"
   ]
  },
  {
   "cell_type": "markdown",
   "metadata": {},
   "source": [
    "##### **Question 1:** What expense categories are families most likely to spend on?"
   ]
  },
  {
   "cell_type": "markdown",
   "metadata": {},
   "source": [
    "This question helps us understand the distribution of family spending across essential and non-essential needs, providing insight into financial priorities.\n",
    "\n"
   ]
  },
  {
   "cell_type": "markdown",
   "metadata": {},
   "source": [
    "To answer this question, the variables of interest are:\n",
    "- **`TOINC`**: the total income\n",
    "- **`T_FOOD`**: the total food expenditure\n",
    "- **`T_HEALTH`**: the total expenditure for medical products such as drugs and medicine, medical appliances and equipment or payment for any medical services\n",
    "- **`T_RECREATION`**: the total expenditure for recreation such as purchasing books, appliances, dolls"
   ]
  },
  {
   "cell_type": "code",
   "execution_count": 20,
   "metadata": {},
   "outputs": [
    {
     "data": {
      "image/png": "[encoded data removed]",
      "text/plain": [
       "<Figure size 800x600 with 1 Axes>"
      ]
     },
     "metadata": {},
     "output_type": "display_data"
    }
   ],
   "source": [
    "FIES_df = pd.read_csv('FIES PUF 2012 Vol.1.CSV')\n",
    "total_food = FIES_df['T_FOOD'].sum()\n",
    "total_health = FIES_df['T_HEALTH'].sum()\n",
    "total_recreation = FIES_df['T_RECREATION'].sum()\n",
    "\n",
    "expense_categories = {\n",
    "    'Food': total_food,\n",
    "    'Health': total_health,\n",
    "    'Recreation': total_recreation\n",
    "}\n",
    "\n",
    "expense_df = pd.DataFrame(list(expense_categories.items()), columns=['Category', 'Total Expenditure'])\n",
    "\n",
    "plt.figure(figsize=(8, 6))\n",
    "plt.bar(expense_df['Category'], expense_df['Total Expenditure'], color=['pink', 'purple', 'blue'])\n",
    "plt.title('Total Expenditure by Category')\n",
    "plt.xlabel('Expense Category')\n",
    "plt.ylabel('Total Expenditure')\n",
    "plt.show()"
   ]
  },
  {
   "cell_type": "markdown",
   "metadata": {},
   "source": [
    "The results depict that food is the category that is mostly spent on by families."
   ]
  },
  {
   "cell_type": "markdown",
   "metadata": {},
   "source": [
    "##### **Question 2:** How does the number of family members impact the total expenditure? "
   ]
  },
  {
   "cell_type": "markdown",
   "metadata": {},
   "source": [
    "This question allows us to assess how family size drives overall costs as larger families may have different spending patterns."
   ]
  },
  {
   "cell_type": "markdown",
   "metadata": {},
   "source": [
    "To answer this question, the variables of interest are:\n",
    "- **`MEMBERS`**: the number of members in a family\n",
    "- **`T_TOTEX`**: the total expenditure\n"
   ]
  },
  {
   "cell_type": "code",
   "execution_count": 19,
   "metadata": {},
   "outputs": [
    {
     "data": {
      "image/png": "[encoded data removed]",
      "text/plain": [
       "<Figure size 800x600 with 1 Axes>"
      ]
     },
     "metadata": {},
     "output_type": "display_data"
    }
   ],
   "source": [
    "family_members = FIES_df['MEMBERS']\n",
    "total_expenditure = FIES_df['T_TOTEX']\n",
    "\n",
    "plt.figure(figsize=(8, 6))\n",
    "plt.scatter(family_members, total_expenditure, alpha=0.6, color='pink')\n",
    "\n",
    "plt.title('Impact of Number of Family Members on Total Expenditure')\n",
    "plt.xlabel('Number of Family Members')\n",
    "plt.ylabel('Total Expenditure')\n",
    "plt.show()\n"
   ]
  },
  {
   "cell_type": "markdown",
   "metadata": {},
   "source": [
    "##### **Question 3:** How does the number of employed family members affect the  overall income? "
   ]
  },
  {
   "cell_type": "markdown",
   "metadata": {},
   "source": [
    "This question helps us see how employment within a family influences both earning capacity and spending habits, highlighting the role of employment in financial stability."
   ]
  },
  {
   "cell_type": "markdown",
   "metadata": {},
   "source": [
    "To answer this question, the variables of interest are:\n",
    "- **`EMPLOYED_PAY`**: the number of family members that are employed during the past six months\n",
    "- **`TOINC`**: the total income\n"
   ]
  },
  {
   "cell_type": "code",
   "execution_count": 22,
   "metadata": {},
   "outputs": [
    {
     "data": {
      "image/png": "[encoded data removed]",
      "text/plain": [
       "<Figure size 800x600 with 1 Axes>"
      ]
     },
     "metadata": {},
     "output_type": "display_data"
    }
   ],
   "source": [
    "employed_family = FIES_df['EMPLOYED_PAY']\n",
    "total_income = FIES_df['TOINC']\n",
    "\n",
    "plt.figure(figsize=(8, 6))\n",
    "plt.scatter(employed_family, total_income, alpha=0.6, color='pink')\n",
    "\n",
    "plt.title('Impact of Employed Family Members on Total Income')\n",
    "plt.xlabel('Number of Employed Family Members')\n",
    "plt.ylabel('Total Income')\n",
    "plt.show()"
   ]
  },
  {
   "cell_type": "markdown",
   "metadata": {},
   "source": [
    "##### **Question 4:** Do the total expenses increase as total income increases?"
   ]
  },
  {
   "cell_type": "markdown",
   "metadata": {},
   "source": [
    "This question helps examine whether spending is directly proportional to income or if higher income leads to more discretionary spending.\n"
   ]
  },
  {
   "cell_type": "markdown",
   "metadata": {},
   "source": [
    "To answer this question, the variables of interest are:\n",
    "- **`T_TOTEX`**: the total expenditure\n",
    "- **`TOINC`**: the total income"
   ]
  },
  {
   "cell_type": "code",
   "execution_count": 26,
   "metadata": {},
   "outputs": [
    {
     "data": {
      "image/png": "[encoded data removed]",
      "text/plain": [
       "<Figure size 800x600 with 1 Axes>"
      ]
     },
     "metadata": {},
     "output_type": "display_data"
    }
   ],
   "source": [
    "total_expenses = FIES_df['T_TOTEX']\n",
    "total_income = FIES_df['TOINC']\n",
    "\n",
    "plt.figure(figsize=(8, 6))\n",
    "plt.scatter(total_expenses, total_income, alpha=0.6, color='pink')\n",
    "\n",
    "plt.title('Relationship Between Total Expenses and Total Income')\n",
    "plt.xlabel('Total Expenses')\n",
    "plt.ylabel('Total Income')\n",
    "plt.show()"
   ]
  },
  {
   "cell_type": "markdown",
   "metadata": {},
   "source": [
    "## Research Question"
   ]
  },
  {
   "cell_type": "markdown",
   "metadata": {},
   "source": [
    "**How do family size, employment, and income levels influence spending patterns across essential and non-essential expenditure categories?**"
   ]
  },
  {
   "cell_type": "markdown",
   "metadata": {},
   "source": [
    "This research question is vital for understanding the financial behaviours of families. By investigating this question, we aim to uncover the intricate relationships between family demographics and their spending habits, which can inform better financial planning and policy-making.\n",
    "\n",
    "The exploratory data analysis (EDA) results help us gain insights into how different family structures and economic conditions impact expenditure. For example, understanding how family size affects total expenses can reveal patterns in essential spending, such as food and housing, versus non-essential spending, like recreation and entertainment.\n",
    "\n",
    "The significance of this research lies in its potential applications. Policymakers and social organizations can utilize the findings to tailor support programs that meet the needs of families based on their specific financial situations. Additionally, financial advisors and planners can leverage these insights to create more effective budgeting strategies for families, encouraging better financial literacy.\n"
   ]
  }
 ],
 "metadata": {
  "kernelspec": {
   "display_name": "Python 3",
   "language": "python",
   "name": "python3"
  },
  "language_info": {
   "codemirror_mode": {
    "name": "ipython",
    "version": 3
   },
   "file_extension": ".py",
   "mimetype": "text/x-python",
   "name": "python",
   "nbconvert_exporter": "python",
   "pygments_lexer": "ipython3",
   "version": "3.12.1"
  }
 },
 "nbformat": 4,
 "nbformat_minor": 2
}
