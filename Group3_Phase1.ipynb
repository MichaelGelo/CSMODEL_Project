{
 "cells": [
  {
   "cell_type": "markdown",
   "metadata": {},
   "source": [
    "# **Group 3: Ang, Depasucat, Padilla, Yee**"
   ]
  },
  {
   "cell_type": "markdown",
   "metadata": {},
   "source": [
    "***"
   ]
  },
  {
   "cell_type": "markdown",
   "metadata": {},
   "source": [
    "##  **Dataset Description**"
   ]
  },
  {
   "cell_type": "markdown",
   "metadata": {},
   "source": [
    "### Description of the Dataset"
   ]
  },
  {
   "cell_type": "markdown",
   "metadata": {},
   "source": [
    "The dataset used in this project is Dataset #1, titled Family Income and Expenditure Survey 2012 Vol 1, and can be accessed via this link ([Family Income and Expenditure Survey 2012 Vol 1](https://psada.psa.gov.ph/catalog/38/get-microdata)).\n",
    "\n",
    "This dataset was collected through a sample survey aimed at providing income and expenditure data for the country and its 17 regions. It includes information on sources of income (both in cash and in kind) and levels of consumption by expenditure item. The dataset serves as a key source of information on human development, offering insights for government policies and programs aimed at improving the socio-economic well-being of Filipino families."
   ]
  },
  {
   "cell_type": "markdown",
   "metadata": {},
   "source": [
    "###  Collection Process"
   ]
  },
  {
   "cell_type": "markdown",
   "metadata": {},
   "source": [
    "The 2012 Family Income and Expenditure Survey (FIES) is a survey sample that aims to gather income and expenditure information for the Philippines and its seventeen regions. Data was gathered in two separate periods, in July 2012 and January 2013, by conducting in-person interviews with around 50,000 households. Enumerators were given thorough training and supervision to guarantee the accuracy and completeness of the collected data. Supervisors carried out quality assessments, such as repeat interviews, to ensure precision. The gathered data was carefully reviewed and edited both manually and by machine, which included checks for completeness, validations for consistency, and macro edits using the FAME system. The survey attained an impressive 90.1% response rate, offering thorough socioeconomic information on family finances at national and regional levels."
   ]
  },
  {
   "cell_type": "markdown",
   "metadata": {},
   "source": []
  },
  {
   "cell_type": "markdown",
   "metadata": {},
   "source": [
    "***"
   ]
  },
  {
   "cell_type": "markdown",
   "metadata": {},
   "source": [
    "## Data Cleaning"
   ]
  },
  {
   "cell_type": "markdown",
   "metadata": {},
   "source": [
    "## Import"
   ]
  },
  {
   "cell_type": "code",
   "execution_count": 3,
   "metadata": {},
   "outputs": [],
   "source": [
    "import numpy as np\n",
    "import pandas as pd"
   ]
  },
  {
   "cell_type": "markdown",
   "metadata": {},
   "source": [
    "## Reading the Dataset"
   ]
  },
  {
   "cell_type": "code",
   "execution_count": 4,
   "metadata": {},
   "outputs": [
    {
     "name": "stdout",
     "output_type": "stream",
     "text": [
      "<class 'pandas.core.frame.DataFrame'>\n",
      "RangeIndex: 40171 entries, 0 to 40170\n",
      "Columns: 119 entries, W_REGN to REGPC\n",
      "dtypes: float64(5), int64(92), object(22)\n",
      "memory usage: 36.5+ MB\n"
     ]
    }
   ],
   "source": [
    "FIES_df = pd.read_csv('FIES PUF 2012 Vol.1.CSV')\n",
    "FIES_df.info()"
   ]
  },
  {
   "cell_type": "markdown",
   "metadata": {},
   "source": [
    "FSIZE, WAGES, TOINC, T_FOOD, T_CLOTH, T_FURNISHING, T_HEALTH, T_HOUSING_WATER, T_TRANSPORT, T_COMMUNICATION, T_RECREATION, T_EDUCATION, T_MISCELLANEOUS, T_OTHER_EXPENDITURE, T_OTHER_DISBURSEMENT, T_NFOOD, T_TOTEX, T_TOTDIS, T_OTHREC, T_TOREC, JOB, OCCUP, MEMBERS, AGELESS5, AGE5_17, EMPLOYED_PAY, EMPLOYED_PROF,"
   ]
  },
  {
   "cell_type": "code",
   "execution_count": 5,
   "metadata": {},
   "outputs": [
    {
     "data": {
      "text/plain": [
       "array([ 3. , 12.5,  2. ,  4. ,  5. , 10. ,  1. ,  6. ,  3.5,  4.5,  9.5,\n",
       "        8. ,  7.5,  6.5,  5.5,  7. ,  8.5,  9. ,  2.5,  1.5, 11.5, 10.5,\n",
       "       11. , 13.5, 20.5, 14.5, 12. , 13. , 15. , 17. , 19.5, 14. , 15.5,\n",
       "       16. , 18. , 16.5, 17.5, 19. , 18.5])"
      ]
     },
     "execution_count": 5,
     "metadata": {},
     "output_type": "execute_result"
    }
   ],
   "source": [
    "FIES_df['FSIZE'].unique()"
   ]
  },
  {
   "cell_type": "code",
   "execution_count": null,
   "metadata": {},
   "outputs": [],
   "source": []
  }
 ],
 "metadata": {
  "kernelspec": {
   "display_name": "Python 3",
   "language": "python",
   "name": "python3"
  },
  "language_info": {
   "codemirror_mode": {
    "name": "ipython",
    "version": 3
   },
   "file_extension": ".py",
   "mimetype": "text/x-python",
   "name": "python",
   "nbconvert_exporter": "python",
   "pygments_lexer": "ipython3",
   "version": "3.12.0"
  }
 },
 "nbformat": 4,
 "nbformat_minor": 2
}
