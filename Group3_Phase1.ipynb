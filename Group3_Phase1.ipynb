{
 "cells": [
  {
   "cell_type": "markdown",
   "metadata": {},
   "source": [
    "# **Group 3: Ang, Depasucat, Padilla, Yee**"
   ]
  },
  {
   "cell_type": "markdown",
   "metadata": {},
   "source": [
    "***"
   ]
  },
  {
   "cell_type": "markdown",
   "metadata": {},
   "source": [
    "##  **Dataset Description**"
   ]
  },
  {
   "cell_type": "markdown",
   "metadata": {},
   "source": [
    "### Description of the Dataset"
   ]
  },
  {
   "cell_type": "markdown",
   "metadata": {},
   "source": [
    "The dataset used in this project is Dataset #1, titled Family Income and Expenditure Survey 2012 Vol 1, and can be accessed via this link ([Family Income and Expenditure Survey 2012 Vol 1](https://psada.psa.gov.ph/catalog/38/get-microdata)).\n",
    "\n",
    "This dataset was collected through a sample survey aimed at providing income and expenditure data for the country and its 17 regions. It includes information on sources of income (both in cash and in kind) and levels of consumption by expenditure item. The dataset serves as a key source of information on human development, offering insights for government policies and programs aimed at improving the socio-economic well-being of Filipino families."
   ]
  },
  {
   "cell_type": "markdown",
   "metadata": {},
   "source": [
    "###  Collection Process"
   ]
  },
  {
   "cell_type": "markdown",
   "metadata": {},
   "source": [
    "The 2012 Family Income and Expenditure Survey (FIES) is a survey sample that aims to gather income and expenditure information for the Philippines and its seventeen regions. Data was gathered in two separate periods, in July 2012 and January 2013, by conducting in-person interviews with around 50,000 households. Enumerators were given thorough training and supervision to guarantee the accuracy and completeness of the collected data. Supervisors carried out quality assessments, such as repeat interviews, to ensure precision. The gathered data was carefully reviewed and edited both manually and by machine, which included checks for completeness, validations for consistency, and macro edits using the FAME system. The survey attained an impressive 90.1% response rate, offering thorough socioeconomic information on family finances at national and regional levels."
   ]
  },
  {
   "cell_type": "markdown",
   "metadata": {},
   "source": [
    "### Implications"
   ]
  },
  {
   "cell_type": "markdown",
   "metadata": {},
   "source": [
    "The face-to-face data collection in the 2012 Family Income and Expenditure Survey (FIES) prompted more responses, resulting in a 90.1% response rate and showing a low non-response bias. However, the presence of enumerators may unintentionally impact respondents' responses, particularly for sensitive financial data. Furthermore, the survey deliberately excludes institutional populations (e.g., dormitories, care homes, and prisons), focusing entirely on private households, as stated on page 2 of the documentation. Because of this exclusion bias, the survey may not fully represent certain population sections, thereby providing insufficient insights on income and expenditure patterns."
   ]
  },
  {
   "cell_type": "markdown",
   "metadata": {},
   "source": [
    "### Structure of the Dataset File"
   ]
  },
  {
   "cell_type": "markdown",
   "metadata": {},
   "source": [
    "- The dataset contains 119 columns, each of which represents a specific variable associated to individual households. Each row in the dataset represents a household that participated in the survey. The dataset contains information about expenditures, housing characteristics, social protection, income, other revenues, and entrepreneurial activity.\n",
    "\n",
    "- The dataset contains 40,171 observations and 119 variables.\n",
    "\n",
    "- Variables:\n",
    "\n",
    "| **Name**                  | **Label**                                                                                                            |\n",
    "|:---------------------:|:--------------------------------------------------------------------------------------------------------------:|\n",
    "| w_regn                | Region                                                                                                         |\n",
    "| w_oid                 | Other ID                                                                                                      |\n",
    "| w_shsn                | Sample Household Serial Number                                                                                 |\n",
    "| w_hcn                 | Household Control Number                                                                                       |\n",
    "| psu                   | Psu (Recode)                                                                                                  |\n",
    "| urb                   | Urban/Rural                                                                                                   |\n",
    "| rstr                  | Stratum (Recode)                                                                                              |\n",
    "| bweight               | Base Weight                                                                                                   |\n",
    "| rfact                 | Final Weight                                                                                                  |\n",
    "| fsize                 | Family Size                                                                                                   |\n",
    "| agri_sal              | Salaries/Wages from Agricultural Activity                                                                     |\n",
    "| nonagri_sal          | Salaries/Wages from Non-Agricultural Activity                                                                 |\n",
    "| wages                 | Salaries/Wages from both Agri and Non-Agri Activities                                                         |\n",
    "| netshare              | Net Share of Crops, Fruits and Vegetables Produced, Aquaculture Products Harvested, or Livestock and Poultry Raised by Other Households (Tot. Net Value of Share) |\n",
    "| cash_abroad           | Cash Receipts, Support, Relief and Other Forms of Assistance from Abroad                                       |\n",
    "| cash_domestic         | Cash Receipts, Support, Assistance and Relief from Domestic Source                                            |\n",
    "| rentals_rec           | Rentals Received from Non-Agri Lands, Buildings, Spaces and Other Properties                                  |\n",
    "| interest              | Interest                                                                                                       |\n",
    "| pension               | Pension and Retirement Benefits                                                                                 |\n",
    "| dividends             | Dividends from Investment                                                                                     |\n",
    "| other_source          | Other Sources of Income NEC                                                                                    |\n",
    "| net_receipt           | Family Sustenance Activities                                                                                    |\n",
    "| regft                 | Total Received as Gifts                                                                                        |\n",
    "| net_cfg               | Crop Farming and Gardening                                                                                     |\n",
    "| net_lpr               | Livestock and Poultry Raising                                                                                 |\n",
    "| net_fish              | Fishing                                                                                                        |\n",
    "| net_for               | Forestry and Hunting                                                                                           |\n",
    "| net_ret               | Wholesale and Retail                                                                                           |\n",
    "| net_mfg               | Manufacturing                                                                                                  |\n",
    "| net_com               | Community, Social, Recreational and Personal Services                                                         |\n",
    "| net_trans             | Transportation, Storage, and Communication Services                                                           |\n",
    "| net_min               | Mining and Quarrying                                                                                           |\n",
    "| net_cons              | Construction                                                                                                   |\n",
    "| net_nec               | Entrep. Activities NEC                                                                                        |\n",
    "| eainc                 | Total Income from Entrepreneurial Activities                                                                    |\n",
    "| toinc                 | Total Income                                                                                                   |\n",
    "| losses                | Losses from EA                                                                                                |\n",
    "| t_bread               | Bread and Cereal (Total)                                                                                      |\n",
    "| t_meat                | Meat (Total)                                                                                                  |\n",
    "| t_fish                | Fish and Seafood (Total)                                                                                      |\n",
    "| t_milk                | Milk, Cheese and Eggs (Total)                                                                                 |\n",
    "| t_oil                 | Oils and Fats (Total)                                                                                         |\n",
    "| t_fruit               | Fruits (Total)                                                                                                 |\n",
    "| t_veg                 | Vegetables (Total)                                                                                             |\n",
    "| t_food_nec           | Food Not Elsewhere Classified (Total)                                                                          |\n",
    "| t_sugar               | Sugar, Jam, Honey, Chocolate and confectionery (Total)                                                       |\n",
    "| t_coffee              | Coffee, Cocoa and Tea (Total)                                                                                 |\n",
    "| t_mineral            | Mineral water, soft drinks, fruit and vegetable juices (Total)                                                |\n",
    "| t_alcohol             | Alcoholic Beverages (Total)                                                                                   |\n",
    "| t_tobacco             | Tobacco (Total)                                                                                               |\n",
    "| t_other_veg          | Other Vegetables-based products (Total)                                                                       |\n",
    "| t_food_home          | Total Food Consumed at Home (Total)                                                                           |\n",
    "| t_food_outside       | Food Regularly Consumed Outside The Home (Total)                                                              |\n",
    "| t_food               | Total Food Expenditures                                                                                        |\n",
    "| t_cloth              | Clothing and Footwear (Total)                                                                                 |\n",
    "| t_furnishing         | Furnishings, Household equipment and routine household maintenance (Total)                                     |\n",
    "| t_health             | Health (Total)                                                                                                |\n",
    "| t_housing_water      | Housing and water (Total)                                                                                     |\n",
    "| t_actrent            | Actual House Rent                                                                                             |\n",
    "| t_rentval            | House Rent/Rental Value                                                                                        |\n",
    "| t_imputed_rent       | Imputed House Rental Value                                                                                     |\n",
    "| t_bimputed_rent      | Imputed Housing Benefit Rental Value                                                                           |\n",
    "| t_transport          | Transport (Total)                                                                                             |\n",
    "| t_communication      | Communication (Total)                                                                                         |\n",
    "| t_recreation         | Recreation and culture (Total)                                                                                 |\n",
    "| t_education          | Education (Total)                                                                                              |\n",
    "| t_miscellaneous      | Miscellaneous Goods and Services (Total)                                                                      |\n",
    "| t_other_expenditure   | Other Expenditure (inc. Value Consumed, Losses)                                                              |\n",
    "| t_other_disbursement  | Other Disbursements                                                                                            |\n",
    "| t_nfood              | Total Non-Food Expenditure                                                                                     |\n",
    "| t_totex             | Total Expenditure                                                                                              |\n",
    "| t_totdis            | Total Disbursements                                                                                           |\n",
    "| t_othrec            | Total Other Receipts                                                                                           |\n",
    "| t_torec             | Total Receipts                                                                                                |\n",
    "| food_accom_srvc      | Food Regularly Consumed Outside The Home - Accommodation Services                                             |\n",
    "| sex                  | Household Head Sex (2nd visit only)                                                                           |\n",
    "| age                  | Household Head Age (2nd visit only)                                                                           |\n",
    "| ms                   | Household Head Marital Status (2nd visit only)                                                                |\n",
    "| hgc                  | Household Head Highest Grade Completed (2nd visit only)                                                       |\n",
    "| job                  | Household Head Job or Business Indicator (2nd visit only)                                                    |\n",
    "| occup                | Household Head Occupation (2nd visit only)                                                                    |\n",
    "| kb                   | Household Head Kind of Business/Industry (2nd visit only)                                                   |\n",
    "| cw                   | Household Head Class of Worker (2nd visit only)                                                               |\n",
    "| hhtype               | Type of Household (2nd visit only)                                                                            |\n",
    "| members              | Total Number of Family members (2nd visit only)                                                               |\n",
    "| ageless5             | Members with age less than 5 year old (2nd visit only)                                                      |\n",
    "| age5_17             | Members with age 5 - 17 years old (2nd visit only)                                                           |\n",
    "| employed_pay         | Total number of family members employed for pay (2nd visit only)                                             |\n",
    "| employed_prof        | Total number of family members employed for profit (2nd visit only)                                           |\n",
    "| spouse_emp           | Spouse has job/business (2nd visit only)                                                                      |\n",
    "| bldg_type            | Type of Building/House (2nd visit only)                                                                      |\n",
    "| roof                 | Type of Roof (2nd visit only)                                                                                 |\n",
    "| walls                | Type of Walls (2nd visit only)                                                                                |\n",
    "| tenure               | Tenure Status (2nd visit only)                                                                                |\n",
    "| hse_altertn          | House Alteration                                                                                               |\n",
    "| toilet               | Toilet Facilities (2nd visit only)                                                                           |\n",
    "| electric             | Electricity Indicator (2nd visit only)                                                                        |\n",
    "| water                | Main Source of Water Supply (2nd visit only)                                                                  |\n",
    "| distance             | Distance of Water Source from the House (2nd visit only)                                                     |\n",
    "| radio_qty            | Number of Radios (2nd visit only)                                                                             |\n",
    "| tv_qty               | Number of Television (2nd visit only)                                                                         |\n",
    "| cd_qty               | Number of CD/VCD/DVD (2nd visit only)                                                                         |\n",
    "| stereo_qty           | Number of Component/Stereo set (2nd visit only)                                                               |\n",
    "| ref_qty              | Number of Refrigerator/Freezer (2nd visit only)                                                               |\n",
    "| wash_qty             | Number of Washing Machine (2nd visit only)                                                                    |\n",
    "| aircon_qty           | Number of Air Conditioner (2nd visit only)                                                                    |\n",
    "| car_qty              | Number of Car, Jeep, Van (2nd visit only)                                                                     |\n",
    "| landline_qty         | Number of Landline/wireless telephones (2nd visit only)                                                      |\n",
    "| cellphone_qty        | Number of Cellular phone (2nd visit only)                                                                    |\n",
    "| pc_qty               | Number of Personal Computer (2nd visit only)                                                                  |\n",
    "| oven_qty             | Number of Stove with Oven/Gas Range (2nd visit only)                                                         |\n",
    "| motor_banca_qty      | Number of Motorized Banca (2nd visit only)                                                                   |\n",
    "| motorcycle_qty       | Number of Motorcycle/Tricycle (2nd visit only)                                                               |\n",
    "| pop_adj              | Population Adjustment                                                                                          |\n",
    "| pcinc                | Per Capita Income                                                                                             |\n",
    "| natpc                | National per capita income decile                                                                              |\n",
    "| natdc                | National Income decile                                                                                         |\n",
    "| regdc                | Regional Income decile                                                                                         |\n",
    "| regpc                | Regional per capita income decile                                                                              |\n",
    "\n"
   ]
  },
  {
   "cell_type": "markdown",
   "metadata": {},
   "source": [
    "***"
   ]
  },
  {
   "cell_type": "markdown",
   "metadata": {},
   "source": [
    "## **Data Cleaning**"
   ]
  },
  {
   "cell_type": "markdown",
   "metadata": {},
   "source": [
    "### Import"
   ]
  },
  {
   "cell_type": "code",
   "execution_count": 3,
   "metadata": {},
   "outputs": [],
   "source": [
    "import numpy as np\n",
    "import pandas as pd"
   ]
  },
  {
   "cell_type": "markdown",
   "metadata": {},
   "source": [
    "### Reading the Dataset"
   ]
  },
  {
   "cell_type": "code",
   "execution_count": 4,
   "metadata": {},
   "outputs": [
    {
     "name": "stdout",
     "output_type": "stream",
     "text": [
      "<class 'pandas.core.frame.DataFrame'>\n",
      "RangeIndex: 40171 entries, 0 to 40170\n",
      "Columns: 119 entries, W_REGN to REGPC\n",
      "dtypes: float64(5), int64(92), object(22)\n",
      "memory usage: 36.5+ MB\n"
     ]
    }
   ],
   "source": [
    "FIES_df = pd.read_csv('FIES PUF 2012 Vol.1.CSV')\n",
    "FIES_df.info()"
   ]
  },
  {
   "cell_type": "markdown",
   "metadata": {},
   "source": [
    "FSIZE, WAGES, TOINC, T_FOOD, T_CLOTH, T_FURNISHING, T_HEALTH, T_HOUSING_WATER, T_TRANSPORT, T_COMMUNICATION, T_RECREATION, T_EDUCATION, T_MISCELLANEOUS, T_OTHER_EXPENDITURE, T_OTHER_DISBURSEMENT, T_NFOOD, T_TOTEX, T_TOTDIS, T_OTHREC, T_TOREC, JOB, OCCUP, MEMBERS, AGELESS5, AGE5_17, EMPLOYED_PAY, EMPLOYED_PROF,"
   ]
  },
  {
   "cell_type": "code",
   "execution_count": 5,
   "metadata": {},
   "outputs": [
    {
     "data": {
      "text/plain": [
       "array([ 3. , 12.5,  2. ,  4. ,  5. , 10. ,  1. ,  6. ,  3.5,  4.5,  9.5,\n",
       "        8. ,  7.5,  6.5,  5.5,  7. ,  8.5,  9. ,  2.5,  1.5, 11.5, 10.5,\n",
       "       11. , 13.5, 20.5, 14.5, 12. , 13. , 15. , 17. , 19.5, 14. , 15.5,\n",
       "       16. , 18. , 16.5, 17.5, 19. , 18.5])"
      ]
     },
     "execution_count": 5,
     "metadata": {},
     "output_type": "execute_result"
    }
   ],
   "source": [
    "FIES_df['FSIZE'].unique()"
   ]
  },
  {
   "cell_type": "code",
   "execution_count": null,
   "metadata": {},
   "outputs": [],
   "source": []
  }
 ],
 "metadata": {
  "kernelspec": {
   "display_name": "Python 3",
   "language": "python",
   "name": "python3"
  },
  "language_info": {
   "codemirror_mode": {
    "name": "ipython",
    "version": 3
   },
   "file_extension": ".py",
   "mimetype": "text/x-python",
   "name": "python",
   "nbconvert_exporter": "python",
   "pygments_lexer": "ipython3",
   "version": "3.12.0"
  }
 },
 "nbformat": 4,
 "nbformat_minor": 2
}
