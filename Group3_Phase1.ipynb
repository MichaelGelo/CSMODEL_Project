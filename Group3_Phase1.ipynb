{
 "cells": [
  {
   "cell_type": "markdown",
   "metadata": {},
   "source": [
    "# **Group 3: Ang, Depasucat, Padilla, Yee**"
   ]
  },
  {
   "cell_type": "markdown",
   "metadata": {},
   "source": [
    "***"
   ]
  },
  {
   "cell_type": "markdown",
   "metadata": {},
   "source": [
    "##  **Dataset Description**"
   ]
  },
  {
   "cell_type": "markdown",
   "metadata": {},
   "source": [
    "### Description of the Dataset"
   ]
  },
  {
   "cell_type": "markdown",
   "metadata": {},
   "source": [
    "The 2012 Family Income and Expenditure Survey Volume 1, compiled by the Philippine Statistics Authority (PSA), offers detailed information on family income and spending habits in the Philippines. This dataset records the amounts spent on different items and where the money comes from, including both actual money and goods or services. It focuses on analyzing standards of living and differences in earnings and expenditure trends among various income brackets. The study also gathers data on factors such as the quantity of household members working for pay or profit (including employees on salary, wages, or self-employed individuals), along with demographic information such as the job, age, and level of education of the head of the household. Moreover, it includes different housing attributes.\n",
    "\n",
    "This survey, which took place in two rounds (in July 2012 and January 2013) in all 17 regions of the country, utilized the 2009 Philippine Classification of Individual Consumption According to Purpose (PCOICOP). The dataset that is produced is an important source of information regarding human development, providing insights for government policies and programs that focus on enhancing the socio-economic well-being of Filipino families."
   ]
  },
  {
   "cell_type": "markdown",
   "metadata": {},
   "source": [
    "###  Collection Process"
   ]
  },
  {
   "cell_type": "markdown",
   "metadata": {},
   "source": [
    "The 2012 FIES began by selecting a sample based on the 2003 Master Sample, which categorized the country into primary sampling units (PSUs) by regions. Data collection occurred in two phases: the first one in July 2012 and the second one in January 2013. Interviews were held in person with households during both rounds. Enumerators received in-depth training and were closely supervised to ensure the accuracy and completeness of the gathered data. If households were not reachable or refused to take part, surveyors conducted extra visits to minimize non-response. After collecting data, a thorough verification process was carried out manually and electronically to guarantee accuracy and consistency, using specialized software to uphold data quality. This resulted in a 90.1% response rate for the survey, showing widespread participation from households across the country."
   ]
  },
  {
   "cell_type": "markdown",
   "metadata": {},
   "source": []
  }
 ],
 "metadata": {
  "language_info": {
   "name": "python"
  }
 },
 "nbformat": 4,
 "nbformat_minor": 2
}
